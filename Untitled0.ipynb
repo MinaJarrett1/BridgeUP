{
  "nbformat": 4,
  "nbformat_minor": 0,
  "metadata": {
    "colab": {
      "provenance": []
    },
    "kernelspec": {
      "name": "python3",
      "display_name": "Python 3"
    },
    "language_info": {
      "name": "python"
    }
  },
  "cells": [
    {
      "cell_type": "code",
      "metadata": {
        "id": "3Gn0C-EDOreW"
      },
      "source": [
        "import pandas as pd\n",
        "import numpy as np"
      ],
      "execution_count": null,
      "outputs": []
    },
    {
      "cell_type": "code",
      "metadata": {
        "id": "hmy0exL8PjJa"
      },
      "source": [
        "df= pd.read_csv(\"/content/drive/MyDrive/animal_brains.csv\")"
      ],
      "execution_count": null,
      "outputs": []
    },
    {
      "cell_type": "code",
      "metadata": {
        "colab": {
          "base_uri": "https://localhost:8080/",
          "height": 204
        },
        "id": "-b5NdIDwQgIo",
        "outputId": "0b14d131-5959-419a-ce33-a1748e871a08"
      },
      "source": [
        "df.head()"
      ],
      "execution_count": null,
      "outputs": [
        {
          "output_type": "execute_result",
          "data": {
            "text/html": [
              "<div>\n",
              "<style scoped>\n",
              "    .dataframe tbody tr th:only-of-type {\n",
              "        vertical-align: middle;\n",
              "    }\n",
              "\n",
              "    .dataframe tbody tr th {\n",
              "        vertical-align: top;\n",
              "    }\n",
              "\n",
              "    .dataframe thead th {\n",
              "        text-align: right;\n",
              "    }\n",
              "</style>\n",
              "<table border=\"1\" class=\"dataframe\">\n",
              "  <thead>\n",
              "    <tr style=\"text-align: right;\">\n",
              "      <th></th>\n",
              "      <th>Animal</th>\n",
              "      <th>Olfactory Bulbs (mm)</th>\n",
              "      <th>Cerebrum (mm)</th>\n",
              "      <th>Optic Lobes (mm)</th>\n",
              "      <th>Cerebellum (mm)</th>\n",
              "      <th>Volume (cm3)</th>\n",
              "    </tr>\n",
              "  </thead>\n",
              "  <tbody>\n",
              "    <tr>\n",
              "      <th>0</th>\n",
              "      <td>Human</td>\n",
              "      <td>11</td>\n",
              "      <td>123</td>\n",
              "      <td>0</td>\n",
              "      <td>97.0</td>\n",
              "      <td>1130.00</td>\n",
              "    </tr>\n",
              "    <tr>\n",
              "      <th>1</th>\n",
              "      <td>Rat</td>\n",
              "      <td>18</td>\n",
              "      <td>61</td>\n",
              "      <td>30</td>\n",
              "      <td>60.4</td>\n",
              "      <td>0.59</td>\n",
              "    </tr>\n",
              "    <tr>\n",
              "      <th>2</th>\n",
              "      <td>Alligator (adult)</td>\n",
              "      <td>9</td>\n",
              "      <td>17</td>\n",
              "      <td>10</td>\n",
              "      <td>7.0</td>\n",
              "      <td>5.65</td>\n",
              "    </tr>\n",
              "    <tr>\n",
              "      <th>3</th>\n",
              "      <td>Alligator (baby)</td>\n",
              "      <td>5</td>\n",
              "      <td>15</td>\n",
              "      <td>10</td>\n",
              "      <td>7.0</td>\n",
              "      <td>1.71</td>\n",
              "    </tr>\n",
              "    <tr>\n",
              "      <th>4</th>\n",
              "      <td>Bald Eagle</td>\n",
              "      <td>6</td>\n",
              "      <td>40</td>\n",
              "      <td>25</td>\n",
              "      <td>9.0</td>\n",
              "      <td>18.04</td>\n",
              "    </tr>\n",
              "  </tbody>\n",
              "</table>\n",
              "</div>"
            ],
            "text/plain": [
              "              Animal  Olfactory Bulbs (mm)  ...  Cerebellum (mm)  Volume (cm3)\n",
              "0              Human                    11  ...             97.0       1130.00\n",
              "1                Rat                    18  ...             60.4          0.59\n",
              "2  Alligator (adult)                     9  ...              7.0          5.65\n",
              "3   Alligator (baby)                     5  ...              7.0          1.71\n",
              "4         Bald Eagle                     6  ...              9.0         18.04\n",
              "\n",
              "[5 rows x 6 columns]"
            ]
          },
          "metadata": {
            "tags": []
          },
          "execution_count": 8
        }
      ]
    },
    {
      "cell_type": "code",
      "metadata": {
        "id": "0mX8eOCFScxt"
      },
      "source": [
        "def ratio(animaltype, brainregion):\n",
        "  aType = df.loc[animaltype==df[\"Animal\"]]\n",
        "  print(aType)\n",
        "  valueofbrainregion = aType[brainregion]\n",
        "  volume = aType[\"Volume (cm3)\"]\n",
        "  return float(valueofbrainregion/volume)"
      ],
      "execution_count": null,
      "outputs": []
    },
    {
      "cell_type": "code",
      "metadata": {
        "colab": {
          "base_uri": "https://localhost:8080/"
        },
        "id": "Dap3SRj0XB2p",
        "outputId": "abd5fb1c-7d76-4b17-9e50-d17057cf0f29"
      },
      "source": [
        "ratio(\"Human\", \"Olfactory Bulbs (mm)\")\n"
      ],
      "execution_count": null,
      "outputs": [
        {
          "output_type": "stream",
          "text": [
            "  Animal  Olfactory Bulbs (mm)  ...  Cerebellum (mm)  Volume (cm3)\n",
            "0  Human                    11  ...             97.0        1130.0\n",
            "\n",
            "[1 rows x 6 columns]\n"
          ],
          "name": "stdout"
        },
        {
          "output_type": "execute_result",
          "data": {
            "text/plain": [
              "0.009734513274336283"
            ]
          },
          "metadata": {
            "tags": []
          },
          "execution_count": 41
        }
      ]
    },
    {
      "cell_type": "code",
      "metadata": {
        "colab": {
          "base_uri": "https://localhost:8080/"
        },
        "id": "KoRnFvmwazhk",
        "outputId": "23d0a5ed-3549-4ee0-a518-4a07e4c0203a"
      },
      "source": [
        "ratio(\"Human\", \"Cerebrum (mm)\")"
      ],
      "execution_count": null,
      "outputs": [
        {
          "output_type": "stream",
          "text": [
            "  Animal  Olfactory Bulbs (mm)  ...  Cerebellum (mm)  Volume (cm3)\n",
            "0  Human                    11  ...             97.0        1130.0\n",
            "\n",
            "[1 rows x 6 columns]\n"
          ],
          "name": "stdout"
        },
        {
          "output_type": "execute_result",
          "data": {
            "text/plain": [
              "0.1088495575221239"
            ]
          },
          "metadata": {
            "tags": []
          },
          "execution_count": 43
        }
      ]
    },
    {
      "cell_type": "code",
      "metadata": {
        "colab": {
          "base_uri": "https://localhost:8080/"
        },
        "id": "1JLjBhZfa59Q",
        "outputId": "eb3bea68-0955-4e20-d06f-76331bdea980"
      },
      "source": [
        "ratio(\"Human\", \"Cerebellum (mm)\")"
      ],
      "execution_count": null,
      "outputs": [
        {
          "output_type": "stream",
          "text": [
            "  Animal  Olfactory Bulbs (mm)  ...  Cerebellum (mm)  Volume (cm3)\n",
            "0  Human                    11  ...             97.0        1130.0\n",
            "\n",
            "[1 rows x 6 columns]\n"
          ],
          "name": "stdout"
        },
        {
          "output_type": "execute_result",
          "data": {
            "text/plain": [
              "0.08584070796460178"
            ]
          },
          "metadata": {
            "tags": []
          },
          "execution_count": 46
        }
      ]
    },
    {
      "cell_type": "code",
      "metadata": {
        "colab": {
          "base_uri": "https://localhost:8080/"
        },
        "id": "FlXLd2cqbUk5",
        "outputId": "f1b75802-d8dd-43bf-b808-a4b066e2ccaf"
      },
      "source": [
        "ratio(\"Human\", \"Volume (cm3)\")"
      ],
      "execution_count": null,
      "outputs": [
        {
          "output_type": "stream",
          "text": [
            "  Animal  Olfactory Bulbs (mm)  ...  Cerebellum (mm)  Volume (cm3)\n",
            "0  Human                    11  ...             97.0        1130.0\n",
            "\n",
            "[1 rows x 6 columns]\n"
          ],
          "name": "stdout"
        },
        {
          "output_type": "execute_result",
          "data": {
            "text/plain": [
              "1.0"
            ]
          },
          "metadata": {
            "tags": []
          },
          "execution_count": 47
        }
      ]
    },
    {
      "cell_type": "code",
      "metadata": {
        "colab": {
          "base_uri": "https://localhost:8080/"
        },
        "id": "sU0k5MGxbtzh",
        "outputId": "9ecb81e9-78de-4ab8-9c5c-bbf98e1a9cb7"
      },
      "source": [
        "ratio(\"Rat\", \"Olfactory Bulbs (mm)\")"
      ],
      "execution_count": null,
      "outputs": [
        {
          "output_type": "stream",
          "text": [
            "  Animal  Olfactory Bulbs (mm)  ...  Cerebellum (mm)  Volume (cm3)\n",
            "1    Rat                    18  ...             60.4          0.59\n",
            "\n",
            "[1 rows x 6 columns]\n"
          ],
          "name": "stdout"
        },
        {
          "output_type": "execute_result",
          "data": {
            "text/plain": [
              "30.508474576271187"
            ]
          },
          "metadata": {
            "tags": []
          },
          "execution_count": 48
        }
      ]
    },
    {
      "cell_type": "code",
      "metadata": {
        "colab": {
          "base_uri": "https://localhost:8080/"
        },
        "id": "aLE3rLNRb_b7",
        "outputId": "059c8821-14bc-470a-975b-7e6f94d3e194"
      },
      "source": [
        "ratio(\"Rat\", \"Cerebrum (mm)\")"
      ],
      "execution_count": null,
      "outputs": [
        {
          "output_type": "stream",
          "text": [
            "  Animal  Olfactory Bulbs (mm)  ...  Cerebellum (mm)  Volume (cm3)\n",
            "1    Rat                    18  ...             60.4          0.59\n",
            "\n",
            "[1 rows x 6 columns]\n"
          ],
          "name": "stdout"
        },
        {
          "output_type": "execute_result",
          "data": {
            "text/plain": [
              "103.38983050847459"
            ]
          },
          "metadata": {
            "tags": []
          },
          "execution_count": 51
        }
      ]
    },
    {
      "cell_type": "code",
      "metadata": {
        "colab": {
          "base_uri": "https://localhost:8080/"
        },
        "id": "RGv5vaNab1vl",
        "outputId": "0c78b8a1-bd06-4f4f-c18a-2de6ec82afde"
      },
      "source": [
        "ratio(\"Rat\", \"Optic Lobes (mm)\")"
      ],
      "execution_count": null,
      "outputs": [
        {
          "output_type": "stream",
          "text": [
            "  Animal  Olfactory Bulbs (mm)  ...  Cerebellum (mm)  Volume (cm3)\n",
            "1    Rat                    18  ...             60.4          0.59\n",
            "\n",
            "[1 rows x 6 columns]\n"
          ],
          "name": "stdout"
        },
        {
          "output_type": "execute_result",
          "data": {
            "text/plain": [
              "50.847457627118644"
            ]
          },
          "metadata": {
            "tags": []
          },
          "execution_count": 50
        }
      ]
    }
  ]
}