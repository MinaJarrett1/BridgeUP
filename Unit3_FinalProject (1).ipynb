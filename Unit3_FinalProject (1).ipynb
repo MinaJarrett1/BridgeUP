{
  "nbformat": 4,
  "nbformat_minor": 0,
  "metadata": {
    "colab": {
      "provenance": [],
      "collapsed_sections": []
    },
    "kernelspec": {
      "display_name": "Python 3",
      "language": "python",
      "name": "python3"
    },
    "language_info": {
      "codemirror_mode": {
        "name": "ipython",
        "version": 3
      },
      "file_extension": ".py",
      "mimetype": "text/x-python",
      "name": "python",
      "nbconvert_exporter": "python",
      "pygments_lexer": "ipython3",
      "version": "3.8.3"
    }
  },
  "cells": [
    {
      "cell_type": "markdown",
      "metadata": {
        "id": "-aDkg8IYpfxS"
      },
      "source": [
        "# Making a CMD for your Star Cluster\n",
        "\n",
        "This notebook introduces a few commands that you'll need to make the Color Magnitude Diagram for your star cluster. You can also use the cells below to write code for your unit project."
      ]
    },
    {
      "cell_type": "markdown",
      "metadata": {
        "id": "cdlCFoIYpfxT"
      },
      "source": [
        "## .loc[ ] indexing"
      ]
    },
    {
      "cell_type": "code",
      "metadata": {
        "id": "CcUJ8BQFpfxU"
      },
      "source": [
        "import pandas as pd"
      ],
      "execution_count": null,
      "outputs": []
    },
    {
      "cell_type": "code",
      "metadata": {
        "colab": {
          "base_uri": "https://localhost:8080/",
          "height": 266
        },
        "id": "1Wo4VNL8pfxX",
        "outputId": "ba0ac7f3-41a7-41f1-a87f-1a8aded718f0"
      },
      "source": [
        "# Here we create a sample dataframe\n",
        "sample_df = pd.DataFrame({\"Smartphone\": [\"iPhone 11\", \"Samsung Galaxy S20\", \"Google Pixel 4\", \"LG V60\", \"Nokia 9\", \"Sony Xperia 1\", \"iPhone SE\"], \"Price\": [700,1000,800,700,450,1000,399]})\n",
        "sample_df"
      ],
      "execution_count": null,
      "outputs": [
        {
          "output_type": "execute_result",
          "data": {
            "text/html": [
              "<div>\n",
              "<style scoped>\n",
              "    .dataframe tbody tr th:only-of-type {\n",
              "        vertical-align: middle;\n",
              "    }\n",
              "\n",
              "    .dataframe tbody tr th {\n",
              "        vertical-align: top;\n",
              "    }\n",
              "\n",
              "    .dataframe thead th {\n",
              "        text-align: right;\n",
              "    }\n",
              "</style>\n",
              "<table border=\"1\" class=\"dataframe\">\n",
              "  <thead>\n",
              "    <tr style=\"text-align: right;\">\n",
              "      <th></th>\n",
              "      <th>Smartphone</th>\n",
              "      <th>Price</th>\n",
              "    </tr>\n",
              "  </thead>\n",
              "  <tbody>\n",
              "    <tr>\n",
              "      <th>0</th>\n",
              "      <td>iPhone 11</td>\n",
              "      <td>700</td>\n",
              "    </tr>\n",
              "    <tr>\n",
              "      <th>1</th>\n",
              "      <td>Samsung Galaxy S20</td>\n",
              "      <td>1000</td>\n",
              "    </tr>\n",
              "    <tr>\n",
              "      <th>2</th>\n",
              "      <td>Google Pixel 4</td>\n",
              "      <td>800</td>\n",
              "    </tr>\n",
              "    <tr>\n",
              "      <th>3</th>\n",
              "      <td>LG V60</td>\n",
              "      <td>700</td>\n",
              "    </tr>\n",
              "    <tr>\n",
              "      <th>4</th>\n",
              "      <td>Nokia 9</td>\n",
              "      <td>450</td>\n",
              "    </tr>\n",
              "    <tr>\n",
              "      <th>5</th>\n",
              "      <td>Sony Xperia 1</td>\n",
              "      <td>1000</td>\n",
              "    </tr>\n",
              "    <tr>\n",
              "      <th>6</th>\n",
              "      <td>iPhone SE</td>\n",
              "      <td>399</td>\n",
              "    </tr>\n",
              "  </tbody>\n",
              "</table>\n",
              "</div>"
            ],
            "text/plain": [
              "           Smartphone  Price\n",
              "0           iPhone 11    700\n",
              "1  Samsung Galaxy S20   1000\n",
              "2      Google Pixel 4    800\n",
              "3              LG V60    700\n",
              "4             Nokia 9    450\n",
              "5       Sony Xperia 1   1000\n",
              "6           iPhone SE    399"
            ]
          },
          "metadata": {
            "tags": []
          },
          "execution_count": 8
        }
      ]
    },
    {
      "cell_type": "markdown",
      "metadata": {
        "id": "MPN4-t4upfxa"
      },
      "source": [
        "You can use the .loc index method to select all the items in one column which have a particular value in the second column. For example, we may want to select all items from the \"Smartphone\" column that have a value of 700 in the \"Price\" column.\n",
        "\n",
        "\n",
        "Follow along with the **live coding activity** to see how this works."
      ]
    },
    {
      "cell_type": "code",
      "metadata": {
        "colab": {
          "base_uri": "https://localhost:8080/"
        },
        "id": "fu9h0yPKpfxb",
        "outputId": "3cac6d50-e04f-4097-9c43-09c678f80471"
      },
      "source": [
        "# This code selects all values from the first column, \"Smartphone\" where the value on that same row in the second column, \"Price\" is equal to 700\n",
        "sample_df[\"Smartphone\"].loc[sample_df[\"Price\"] == 700]"
      ],
      "execution_count": null,
      "outputs": [
        {
          "output_type": "execute_result",
          "data": {
            "text/plain": [
              "0    iPhone 11\n",
              "3       LG V60\n",
              "Name: Smartphone, dtype: object"
            ]
          },
          "metadata": {
            "tags": []
          },
          "execution_count": 9
        }
      ]
    },
    {
      "cell_type": "markdown",
      "metadata": {
        "id": "CIYEkA3Wpfxd"
      },
      "source": [
        "Now you try! Let's say you want to view some more expensive phones. Select all the values from the \"Smartphone\" column where the value on that same row in the \"Price\" column is equal to 1000."
      ]
    },
    {
      "cell_type": "code",
      "metadata": {
        "colab": {
          "base_uri": "https://localhost:8080/"
        },
        "id": "O0PvGdTNpfxd",
        "outputId": "1ae47f8a-afb9-4757-c306-b5a57b772f0d"
      },
      "source": [
        "sample_df[\"Smartphone\"].loc[sample_df[\"Price\"] == 1000]"
      ],
      "execution_count": null,
      "outputs": [
        {
          "output_type": "execute_result",
          "data": {
            "text/plain": [
              "1    Samsung Galaxy S20\n",
              "5         Sony Xperia 1\n",
              "Name: Smartphone, dtype: object"
            ]
          },
          "metadata": {
            "tags": []
          },
          "execution_count": 10
        }
      ]
    },
    {
      "cell_type": "markdown",
      "metadata": {
        "id": "jzvDK1QEpfxg"
      },
      "source": [
        "Let's say you definitely want an iPhone of some sort, but you want to see just iPhone prices. Now select all the values from the \"Price\" column where the value on that same row in the \"Smartphone\" column contains the word \"iPhone\"."
      ]
    },
    {
      "cell_type": "code",
      "metadata": {
        "colab": {
          "base_uri": "https://localhost:8080/"
        },
        "id": "bqiRqwcXpfxg",
        "outputId": "33c42460-c9af-4a6f-c512-dd0d3b2e7d8a"
      },
      "source": [
        "sample_df[\"Price\"].loc[sample_df[\"Smartphone\"].str.contains(\"iPhone\")]"
      ],
      "execution_count": null,
      "outputs": [
        {
          "output_type": "execute_result",
          "data": {
            "text/plain": [
              "0    700\n",
              "6    399\n",
              "Name: Price, dtype: int64"
            ]
          },
          "metadata": {
            "tags": []
          },
          "execution_count": 11
        }
      ]
    },
    {
      "cell_type": "markdown",
      "metadata": {
        "id": "uMfMtB_zpr3h"
      },
      "source": [
        "Let's say you're on a budget and don't want to spend more than $700 on a phone. Select all the values from the \"Smartphone\" column where the value on that same row in the \"Price\" column is less than or equal to 700."
      ]
    },
    {
      "cell_type": "code",
      "metadata": {
        "colab": {
          "base_uri": "https://localhost:8080/"
        },
        "id": "7TGx3Hxopq8Z",
        "outputId": "840e6fc1-1b55-40ca-b16d-6f02673d4400"
      },
      "source": [
        "sample_df[\"Smartphone\"].loc[sample_df[\"Price\"]<= 700]"
      ],
      "execution_count": null,
      "outputs": [
        {
          "output_type": "execute_result",
          "data": {
            "text/plain": [
              "0    iPhone 11\n",
              "3       LG V60\n",
              "4      Nokia 9\n",
              "6    iPhone SE\n",
              "Name: Smartphone, dtype: object"
            ]
          },
          "metadata": {
            "tags": []
          },
          "execution_count": 12
        }
      ]
    },
    {
      "cell_type": "markdown",
      "metadata": {
        "id": "utqMyj5_pfxj"
      },
      "source": [
        "#### Note: You can store these selected values in a variable, just like you've done with entire columns!"
      ]
    },
    {
      "cell_type": "markdown",
      "metadata": {
        "id": "GP9SqxKvpfxj"
      },
      "source": [
        "## Finding absolute magnitude"
      ]
    },
    {
      "cell_type": "markdown",
      "metadata": {
        "id": "JjPICJkepfxj"
      },
      "source": [
        "You will need to convert \"G\" to absolute magnitude for your CMD.\n",
        "\n",
        "Look in the dataset for distance. Using G and distance, you can calculate absolute magnitude using the following equation:\n",
        "\n",
        "absolute magnitude = G - 5 * log(distance) + 5"
      ]
    },
    {
      "cell_type": "code",
      "metadata": {
        "id": "7xrdzzqdpfxk"
      },
      "source": [
        "# You will need to import numpy\n",
        "import numpy as np\n",
        "import pandas as pd\n",
        "import matplotlib.pyplot as plt"
      ],
      "execution_count": null,
      "outputs": []
    },
    {
      "cell_type": "code",
      "metadata": {
        "colab": {
          "base_uri": "https://localhost:8080/"
        },
        "id": "_11KBn7Epfxn",
        "outputId": "f48e7137-d6e4-49d0-e6fb-d7546cb8f04f"
      },
      "source": [
        "# You can use this function in your code to find the log of distance:\n",
        "df = pd.read_csv('/content/drive/MyDrive/oh_table.csv')\n",
        "Gvar = df[\"G\"].loc[df[\"group_id\"]==1]\n",
        "Jvar = df[\"J\"].loc[df[\"group_id\"]==1]\n",
        "Dvar = df[\"distance\"].loc[df[\"group_id\"]==1]\n",
        "\n",
        "len(df)\n",
        "\n",
        "absolute_magnitude = Gvar - 5*np.log10(Dvar)+5\n",
        "print(absolute_magnitude)\n",
        "# np.log10()\n"
      ],
      "execution_count": null,
      "outputs": [
        {
          "output_type": "stream",
          "text": [
            "151    4.317935\n",
            "152    1.636046\n",
            "153    1.871381\n",
            "154    2.989399\n",
            "155    4.106913\n",
            "         ...   \n",
            "271    0.736070\n",
            "272    1.168734\n",
            "273    2.820231\n",
            "274    0.544605\n",
            "275    1.416024\n",
            "Length: 125, dtype: float64\n"
          ],
          "name": "stdout"
        }
      ]
    },
    {
      "cell_type": "code",
      "metadata": {
        "id": "q5-xZbHPtaMj"
      },
      "source": [
        "from google.colab import drive\n",
        "drive.mount()"
      ],
      "execution_count": null,
      "outputs": []
    },
    {
      "cell_type": "code",
      "metadata": {
        "colab": {
          "base_uri": "https://localhost:8080/"
        },
        "id": "K4dYerituwd2",
        "outputId": "a7c14096-3a14-465c-ad38-5ad31b40d881"
      },
      "source": [
        "from google.colab import drive\n",
        "drive.mount('/content/drive')"
      ],
      "execution_count": null,
      "outputs": [
        {
          "output_type": "stream",
          "text": [
            "Mounted at /content/drive\n"
          ],
          "name": "stdout"
        }
      ]
    },
    {
      "cell_type": "markdown",
      "metadata": {
        "id": "66bzd67ipfxp"
      },
      "source": [
        "### Your first task is to create a Color Magnitude Diagram for your star cluster\n",
        "You can use as many of the cells below as you need. You can add new cells with the \"+\" button."
      ]
    },
    {
      "cell_type": "code",
      "metadata": {
        "id": "Q5rXuczQpfxq"
      },
      "source": [],
      "execution_count": null,
      "outputs": []
    },
    {
      "cell_type": "code",
      "metadata": {
        "id": "NASmTxRTpfxu"
      },
      "source": [],
      "execution_count": null,
      "outputs": []
    },
    {
      "cell_type": "code",
      "metadata": {
        "id": "WkL3pYhOpfxw"
      },
      "source": [],
      "execution_count": null,
      "outputs": []
    },
    {
      "cell_type": "code",
      "metadata": {
        "id": "EWaGv109pfxy"
      },
      "source": [],
      "execution_count": null,
      "outputs": []
    },
    {
      "cell_type": "code",
      "metadata": {
        "id": "BhmpitgKpfx0"
      },
      "source": [],
      "execution_count": null,
      "outputs": []
    },
    {
      "cell_type": "code",
      "metadata": {
        "id": "F5I3F1Rnpfx2"
      },
      "source": [],
      "execution_count": null,
      "outputs": []
    },
    {
      "cell_type": "markdown",
      "metadata": {
        "id": "BgLYth7Xpfx4"
      },
      "source": [
        "### Coding Challenge 1: Add the sun to your color magnitude diagram"
      ]
    },
    {
      "cell_type": "code",
      "metadata": {
        "id": "LlroU_R9pfx4"
      },
      "source": [],
      "execution_count": null,
      "outputs": []
    },
    {
      "cell_type": "markdown",
      "metadata": {
        "id": "_tG61iyepfx6"
      },
      "source": [
        "### Coding Challenge 2: Add a colormap to your diagram"
      ]
    },
    {
      "cell_type": "code",
      "metadata": {
        "id": "M-_pH6SLpfx7"
      },
      "source": [],
      "execution_count": null,
      "outputs": []
    },
    {
      "cell_type": "markdown",
      "metadata": {
        "id": "IuWfhZKKpfx9"
      },
      "source": [
        "### Coding Challenge 3: Create histograms for the absolute magnitude and color of your star cluster"
      ]
    },
    {
      "cell_type": "code",
      "metadata": {
        "id": "1uOX064Vpfx9"
      },
      "source": [],
      "execution_count": null,
      "outputs": []
    }
  ]
}