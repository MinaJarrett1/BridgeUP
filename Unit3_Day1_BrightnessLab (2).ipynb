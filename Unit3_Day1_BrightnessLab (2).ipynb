{
  "nbformat": 4,
  "nbformat_minor": 0,
  "metadata": {
    "kernelspec": {
      "display_name": "Python 3",
      "language": "python",
      "name": "python3"
    },
    "language_info": {
      "codemirror_mode": {
        "name": "ipython",
        "version": 3
      },
      "file_extension": ".py",
      "mimetype": "text/x-python",
      "name": "python",
      "nbconvert_exporter": "python",
      "pygments_lexer": "ipython3",
      "version": "3.7.6"
    },
    "colab": {
      "provenance": [],
      "collapsed_sections": []
    }
  },
  "cells": [
    {
      "cell_type": "markdown",
      "metadata": {
        "id": "CtHm9Qj6iNJf"
      },
      "source": [
        "# Analayzing lab data with pandas\n",
        "\n",
        "This notebook will walk you through the basics of creating a pandas dataframe. You'll use the data you collected in the distance vs brightness lab."
      ]
    },
    {
      "cell_type": "markdown",
      "metadata": {
        "id": "AQewwifOiNJm"
      },
      "source": [
        "First, let's import the pandas and matplotlib libraries:"
      ]
    },
    {
      "cell_type": "code",
      "metadata": {
        "id": "dcfTLvRAiNJm"
      },
      "source": [
        "import pandas as pd\n",
        "import matplotlib.pyplot as plt\n"
      ],
      "execution_count": null,
      "outputs": []
    },
    {
      "cell_type": "markdown",
      "metadata": {
        "id": "HS6wrKoGiNJn"
      },
      "source": [
        "Next, create 4 lists: 1 that contains your distance measurements and 3 that contain your brightness measurements from each experimental run."
      ]
    },
    {
      "cell_type": "code",
      "metadata": {
        "id": "7qX7FUhwiNJn"
      },
      "source": [
        "# Fill in the lists below\n",
        "dist = [0, 10, 20, 30, 40, 50, 60, 70, 80, 90, 100]\n",
        "brt1 = [18357, 3043, 821, 387, 193, 97, 47, 47, 47, 47, 47]\n",
        "brt2 = [18307, 3670, 964, 387, 193, 97, 47, 47, 47, 47, 47]\n",
        "brt3 = [17100, 3333, 868, 337, 193, 97, 47, 47, 47, 47, 47]"
      ],
      "execution_count": null,
      "outputs": []
    },
    {
      "cell_type": "markdown",
      "metadata": {
        "id": "h-AWG9YhiNJo"
      },
      "source": [
        "Now we'll **create a dataframe** based on these lists using the pandas .DataFrame() function."
      ]
    },
    {
      "cell_type": "code",
      "metadata": {
        "id": "ikpGBOvjiNJo"
      },
      "source": [
        "df = pd.DataFrame({\"distance\": dist, \"brightness 1\": brt1, \"brightness 2\": brt2, \"brightness 3\": brt3})\n",
        "\n",
        "# See those {curly brackets}? This means we're using a special data type called a dictionary!"
      ],
      "execution_count": null,
      "outputs": []
    },
    {
      "cell_type": "markdown",
      "metadata": {
        "id": "5KFt7h-FiNJo"
      },
      "source": [
        "Look at the first 5 lines of our dataframe using the .head() function"
      ]
    },
    {
      "cell_type": "code",
      "metadata": {
        "colab": {
          "base_uri": "https://localhost:8080/",
          "height": 204
        },
        "id": "plEjMMdiiNJo",
        "outputId": "3e12625f-d9ce-4b5c-d5bb-d6f0ee4c2ade"
      },
      "source": [
        "df.head()"
      ],
      "execution_count": null,
      "outputs": [
        {
          "output_type": "execute_result",
          "data": {
            "text/html": [
              "<div>\n",
              "<style scoped>\n",
              "    .dataframe tbody tr th:only-of-type {\n",
              "        vertical-align: middle;\n",
              "    }\n",
              "\n",
              "    .dataframe tbody tr th {\n",
              "        vertical-align: top;\n",
              "    }\n",
              "\n",
              "    .dataframe thead th {\n",
              "        text-align: right;\n",
              "    }\n",
              "</style>\n",
              "<table border=\"1\" class=\"dataframe\">\n",
              "  <thead>\n",
              "    <tr style=\"text-align: right;\">\n",
              "      <th></th>\n",
              "      <th>distance</th>\n",
              "      <th>brightness 1</th>\n",
              "      <th>brightness 2</th>\n",
              "      <th>brightness 3</th>\n",
              "    </tr>\n",
              "  </thead>\n",
              "  <tbody>\n",
              "    <tr>\n",
              "      <th>0</th>\n",
              "      <td>0</td>\n",
              "      <td>18357</td>\n",
              "      <td>18307</td>\n",
              "      <td>17100</td>\n",
              "    </tr>\n",
              "    <tr>\n",
              "      <th>1</th>\n",
              "      <td>10</td>\n",
              "      <td>3043</td>\n",
              "      <td>3670</td>\n",
              "      <td>3333</td>\n",
              "    </tr>\n",
              "    <tr>\n",
              "      <th>2</th>\n",
              "      <td>20</td>\n",
              "      <td>821</td>\n",
              "      <td>964</td>\n",
              "      <td>868</td>\n",
              "    </tr>\n",
              "    <tr>\n",
              "      <th>3</th>\n",
              "      <td>30</td>\n",
              "      <td>387</td>\n",
              "      <td>387</td>\n",
              "      <td>337</td>\n",
              "    </tr>\n",
              "    <tr>\n",
              "      <th>4</th>\n",
              "      <td>40</td>\n",
              "      <td>193</td>\n",
              "      <td>193</td>\n",
              "      <td>193</td>\n",
              "    </tr>\n",
              "  </tbody>\n",
              "</table>\n",
              "</div>"
            ],
            "text/plain": [
              "   distance  brightness 1  brightness 2  brightness 3\n",
              "0         0         18357         18307         17100\n",
              "1        10          3043          3670          3333\n",
              "2        20           821           964           868\n",
              "3        30           387           387           337\n",
              "4        40           193           193           193"
            ]
          },
          "metadata": {
            "tags": []
          },
          "execution_count": 4
        }
      ]
    },
    {
      "cell_type": "markdown",
      "metadata": {
        "id": "sYfQ1LnZiNJp"
      },
      "source": [
        "Notice that the strings we chose in the .DataFrame() function have become the column headers and the items from the lists are the column values. \n",
        "\n",
        "What order are the columns in?"
      ]
    },
    {
      "cell_type": "markdown",
      "metadata": {
        "id": "uxoxXtABiNJp"
      },
      "source": [
        "## Working with data columns"
      ]
    },
    {
      "cell_type": "markdown",
      "metadata": {
        "id": "fEoUivutiNJp"
      },
      "source": [
        "Select just the \"brightness 1\" column and assign it to a variable."
      ]
    },
    {
      "cell_type": "code",
      "metadata": {
        "id": "hVfj8O1ViNJp"
      },
      "source": [
        "b1 = df[\"brightness 1\"]"
      ],
      "execution_count": null,
      "outputs": []
    },
    {
      "cell_type": "markdown",
      "metadata": {
        "id": "vYa-NzDCiNJq"
      },
      "source": [
        "Use the .head() function to look at the first 10 values in this column."
      ]
    },
    {
      "cell_type": "code",
      "metadata": {
        "colab": {
          "base_uri": "https://localhost:8080/"
        },
        "id": "XtxCky3MiNJq",
        "outputId": "aa4d04b1-3388-4654-eda7-c19db102786a"
      },
      "source": [
        "b1.head(10)"
      ],
      "execution_count": null,
      "outputs": [
        {
          "output_type": "execute_result",
          "data": {
            "text/plain": [
              "0    18357\n",
              "1     3043\n",
              "2      821\n",
              "3      387\n",
              "4      193\n",
              "5       97\n",
              "6       47\n",
              "7       47\n",
              "8       47\n",
              "9       47\n",
              "Name: brightness 1, dtype: int64"
            ]
          },
          "metadata": {
            "tags": []
          },
          "execution_count": 6
        }
      ]
    },
    {
      "cell_type": "markdown",
      "metadata": {
        "id": "zdbMop48iNJq"
      },
      "source": [
        "Print out the min, max, and average value in this column:"
      ]
    },
    {
      "cell_type": "code",
      "metadata": {
        "colab": {
          "base_uri": "https://localhost:8080/"
        },
        "id": "BgJAC838iNJq",
        "outputId": "118a13b3-bcbd-4466-97ef-b2c4514ae375"
      },
      "source": [
        "# You may have used numpy functions for these calculations in the past, but have you tried pandas methods?\n",
        "# Check your cheat sheet for details\n",
        "print(b1.min())\n",
        "print(b1.max())\n",
        "print(b1.mean())"
      ],
      "execution_count": null,
      "outputs": [
        {
          "output_type": "stream",
          "text": [
            "47\n",
            "18357\n",
            "2103.0\n"
          ],
          "name": "stdout"
        }
      ]
    },
    {
      "cell_type": "markdown",
      "metadata": {
        "id": "fCJvnN_9iNJr"
      },
      "source": [
        "Use the .count() method to find out how many values are in the first brightness column:"
      ]
    },
    {
      "cell_type": "code",
      "metadata": {
        "colab": {
          "base_uri": "https://localhost:8080/"
        },
        "id": "coPzqzwfiNJr",
        "outputId": "1d5314a9-bbfe-4b42-868a-c258a1f419fc"
      },
      "source": [
        "b1.count()"
      ],
      "execution_count": null,
      "outputs": [
        {
          "output_type": "execute_result",
          "data": {
            "text/plain": [
              "11"
            ]
          },
          "metadata": {
            "tags": []
          },
          "execution_count": 8
        }
      ]
    },
    {
      "cell_type": "markdown",
      "metadata": {
        "id": "xPhmp5_viNJr"
      },
      "source": [
        "Now use the .sum() method to find the sum of all the values in this column:"
      ]
    },
    {
      "cell_type": "code",
      "metadata": {
        "colab": {
          "base_uri": "https://localhost:8080/"
        },
        "id": "Zrh9fuKKiNJr",
        "outputId": "623b5f4b-62a7-4986-b58e-561f3cf25620"
      },
      "source": [
        "b1.sum()"
      ],
      "execution_count": null,
      "outputs": [
        {
          "output_type": "execute_result",
          "data": {
            "text/plain": [
              "23133"
            ]
          },
          "metadata": {
            "tags": []
          },
          "execution_count": 9
        }
      ]
    },
    {
      "cell_type": "markdown",
      "metadata": {
        "id": "4wlrrBYQiNJr"
      },
      "source": [
        "## Adding new data to your dataframe"
      ]
    },
    {
      "cell_type": "markdown",
      "metadata": {
        "id": "Qc2OgnyaiNJs"
      },
      "source": [
        "You have three columns for brightness, but we're interested in calculating the average.\n",
        "\n",
        "Let's add a new column to our dataframe that contains the average brightness value:"
      ]
    },
    {
      "cell_type": "code",
      "metadata": {
        "id": "tgw725G0iNJs"
      },
      "source": [
        "#Sample: df[\"new column\"] = df[[\"col1\", \"col2\"].mean(axis=1)\n",
        "\n",
        "# Notes:\n",
        "# \"new column\" is the name of the new column we are creating\n",
        "# We are specifying which columns to average together using an index\n",
        "# We're using the pandas .mean() method again!\n",
        "# axis=1 specifies that pandas should find the mean across columns. \n",
        "# (axis=0 would tell pandas to find the mean across rows)\n",
        "\n",
        "# write code to add an average brightness column below:\n",
        "df[\"avg brightness\"] = df[[\"brightness 1\", \"brightness 2\", \"brightness 3\"]].mean(axis=1)"
      ],
      "execution_count": null,
      "outputs": []
    },
    {
      "cell_type": "markdown",
      "metadata": {
        "id": "FmJthw39iNJs"
      },
      "source": [
        "Use the .head() method to check that you've successfully added the new column:"
      ]
    },
    {
      "cell_type": "code",
      "metadata": {
        "colab": {
          "base_uri": "https://localhost:8080/",
          "height": 204
        },
        "id": "_Uj07mKeiNJs",
        "outputId": "695a1758-166d-42db-f51c-e1ffa2f45e42"
      },
      "source": [
        "df.head()"
      ],
      "execution_count": null,
      "outputs": [
        {
          "output_type": "execute_result",
          "data": {
            "text/html": [
              "<div>\n",
              "<style scoped>\n",
              "    .dataframe tbody tr th:only-of-type {\n",
              "        vertical-align: middle;\n",
              "    }\n",
              "\n",
              "    .dataframe tbody tr th {\n",
              "        vertical-align: top;\n",
              "    }\n",
              "\n",
              "    .dataframe thead th {\n",
              "        text-align: right;\n",
              "    }\n",
              "</style>\n",
              "<table border=\"1\" class=\"dataframe\">\n",
              "  <thead>\n",
              "    <tr style=\"text-align: right;\">\n",
              "      <th></th>\n",
              "      <th>distance</th>\n",
              "      <th>brightness 1</th>\n",
              "      <th>brightness 2</th>\n",
              "      <th>brightness 3</th>\n",
              "      <th>avg brightness</th>\n",
              "    </tr>\n",
              "  </thead>\n",
              "  <tbody>\n",
              "    <tr>\n",
              "      <th>0</th>\n",
              "      <td>0</td>\n",
              "      <td>18357</td>\n",
              "      <td>18307</td>\n",
              "      <td>17100</td>\n",
              "      <td>17921.333333</td>\n",
              "    </tr>\n",
              "    <tr>\n",
              "      <th>1</th>\n",
              "      <td>10</td>\n",
              "      <td>3043</td>\n",
              "      <td>3670</td>\n",
              "      <td>3333</td>\n",
              "      <td>3348.666667</td>\n",
              "    </tr>\n",
              "    <tr>\n",
              "      <th>2</th>\n",
              "      <td>20</td>\n",
              "      <td>821</td>\n",
              "      <td>964</td>\n",
              "      <td>868</td>\n",
              "      <td>884.333333</td>\n",
              "    </tr>\n",
              "    <tr>\n",
              "      <th>3</th>\n",
              "      <td>30</td>\n",
              "      <td>387</td>\n",
              "      <td>387</td>\n",
              "      <td>337</td>\n",
              "      <td>370.333333</td>\n",
              "    </tr>\n",
              "    <tr>\n",
              "      <th>4</th>\n",
              "      <td>40</td>\n",
              "      <td>193</td>\n",
              "      <td>193</td>\n",
              "      <td>193</td>\n",
              "      <td>193.000000</td>\n",
              "    </tr>\n",
              "  </tbody>\n",
              "</table>\n",
              "</div>"
            ],
            "text/plain": [
              "   distance  brightness 1  brightness 2  brightness 3  avg brightness\n",
              "0         0         18357         18307         17100    17921.333333\n",
              "1        10          3043          3670          3333     3348.666667\n",
              "2        20           821           964           868      884.333333\n",
              "3        30           387           387           337      370.333333\n",
              "4        40           193           193           193      193.000000"
            ]
          },
          "metadata": {
            "tags": []
          },
          "execution_count": 13
        }
      ]
    },
    {
      "cell_type": "code",
      "metadata": {
        "id": "MrjuT-f-_yBQ"
      },
      "source": [],
      "execution_count": null,
      "outputs": []
    },
    {
      "cell_type": "markdown",
      "metadata": {
        "id": "LYU4rCQMiNJt"
      },
      "source": [
        "Assign the \"avg brightness\" column to a new variable:"
      ]
    },
    {
      "cell_type": "code",
      "metadata": {
        "id": "5PfIIzKviNJt"
      },
      "source": [
        "avg_brightness = df[\"avg brightness\"]"
      ],
      "execution_count": null,
      "outputs": []
    },
    {
      "cell_type": "markdown",
      "metadata": {
        "id": "ThtJQ5kAiNJt"
      },
      "source": [
        "What is the data type of the \"avg brightness\" column? (Hint: use the .dtypes method)"
      ]
    },
    {
      "cell_type": "code",
      "metadata": {
        "id": "VNfCTH5jiNJt",
        "colab": {
          "base_uri": "https://localhost:8080/"
        },
        "outputId": "c72e7ece-35e1-4464-86a6-dd792b99ebc3"
      },
      "source": [
        "# Note that the .dtypes method doesn't use parentheses\n",
        "avg_brightness.dtypes"
      ],
      "execution_count": null,
      "outputs": [
        {
          "output_type": "execute_result",
          "data": {
            "text/plain": [
              "dtype('float64')"
            ]
          },
          "metadata": {
            "tags": []
          },
          "execution_count": 16
        }
      ]
    },
    {
      "cell_type": "markdown",
      "metadata": {
        "id": "44xgpG0hiNJt"
      },
      "source": [
        "Let's compare this to the rest of the columns. (Hint: try running the .dtypes method on the whole dataframe)"
      ]
    },
    {
      "cell_type": "code",
      "metadata": {
        "id": "y8P2TKSfiNJu",
        "colab": {
          "base_uri": "https://localhost:8080/"
        },
        "outputId": "3ad09595-2efa-4abb-d586-42c707de7ad1"
      },
      "source": [
        "df.dtypes"
      ],
      "execution_count": null,
      "outputs": [
        {
          "output_type": "execute_result",
          "data": {
            "text/plain": [
              "distance            int64\n",
              "brightness 1        int64\n",
              "brightness 2        int64\n",
              "brightness 3        int64\n",
              "avg brightness    float64\n",
              "dtype: object"
            ]
          },
          "metadata": {
            "tags": []
          },
          "execution_count": 17
        }
      ]
    },
    {
      "cell_type": "markdown",
      "metadata": {
        "id": "5CUjg4yJiNJu"
      },
      "source": [
        "## Sorting your data"
      ]
    },
    {
      "cell_type": "markdown",
      "metadata": {
        "id": "MNGPky6SiNJu"
      },
      "source": [
        "Now let's do some more data analysis using pandas. We can use the .sort_values() function to sort our data by average brightness."
      ]
    },
    {
      "cell_type": "code",
      "metadata": {
        "id": "26pf5LNhiNJu",
        "colab": {
          "base_uri": "https://localhost:8080/",
          "height": 204
        },
        "outputId": "e5cf27f3-ea7a-4414-8d62-b8889855f68d"
      },
      "source": [
        "df_sorted = df.sort_values([\"avg brightness\"]) # specify the column that you want to use for the sort using an index\n",
        "# Note that we need to assign the sorted dataframe to a new variable\n",
        "\n",
        "df_sorted.head() # Look at the first 5 lines of the sorted file"
      ],
      "execution_count": null,
      "outputs": [
        {
          "output_type": "execute_result",
          "data": {
            "text/html": [
              "<div>\n",
              "<style scoped>\n",
              "    .dataframe tbody tr th:only-of-type {\n",
              "        vertical-align: middle;\n",
              "    }\n",
              "\n",
              "    .dataframe tbody tr th {\n",
              "        vertical-align: top;\n",
              "    }\n",
              "\n",
              "    .dataframe thead th {\n",
              "        text-align: right;\n",
              "    }\n",
              "</style>\n",
              "<table border=\"1\" class=\"dataframe\">\n",
              "  <thead>\n",
              "    <tr style=\"text-align: right;\">\n",
              "      <th></th>\n",
              "      <th>distance</th>\n",
              "      <th>brightness 1</th>\n",
              "      <th>brightness 2</th>\n",
              "      <th>brightness 3</th>\n",
              "      <th>avg brightness</th>\n",
              "    </tr>\n",
              "  </thead>\n",
              "  <tbody>\n",
              "    <tr>\n",
              "      <th>6</th>\n",
              "      <td>60</td>\n",
              "      <td>47</td>\n",
              "      <td>47</td>\n",
              "      <td>47</td>\n",
              "      <td>47.0</td>\n",
              "    </tr>\n",
              "    <tr>\n",
              "      <th>7</th>\n",
              "      <td>70</td>\n",
              "      <td>47</td>\n",
              "      <td>47</td>\n",
              "      <td>47</td>\n",
              "      <td>47.0</td>\n",
              "    </tr>\n",
              "    <tr>\n",
              "      <th>8</th>\n",
              "      <td>80</td>\n",
              "      <td>47</td>\n",
              "      <td>47</td>\n",
              "      <td>47</td>\n",
              "      <td>47.0</td>\n",
              "    </tr>\n",
              "    <tr>\n",
              "      <th>9</th>\n",
              "      <td>90</td>\n",
              "      <td>47</td>\n",
              "      <td>47</td>\n",
              "      <td>47</td>\n",
              "      <td>47.0</td>\n",
              "    </tr>\n",
              "    <tr>\n",
              "      <th>10</th>\n",
              "      <td>100</td>\n",
              "      <td>47</td>\n",
              "      <td>47</td>\n",
              "      <td>47</td>\n",
              "      <td>47.0</td>\n",
              "    </tr>\n",
              "  </tbody>\n",
              "</table>\n",
              "</div>"
            ],
            "text/plain": [
              "    distance  brightness 1  brightness 2  brightness 3  avg brightness\n",
              "6         60            47            47            47            47.0\n",
              "7         70            47            47            47            47.0\n",
              "8         80            47            47            47            47.0\n",
              "9         90            47            47            47            47.0\n",
              "10       100            47            47            47            47.0"
            ]
          },
          "metadata": {
            "tags": []
          },
          "execution_count": 22
        }
      ]
    },
    {
      "cell_type": "markdown",
      "metadata": {
        "id": "tNbFgU7JiNJu"
      },
      "source": [
        "Look at the distances in this sorted dataframe. Do the lowest brightness values occur at large or small distances?\n",
        "\n",
        "What if we want to look at the highest brightness values? We can sort the data in reverse by adding another argument to the sort_values() function."
      ]
    },
    {
      "cell_type": "code",
      "metadata": {
        "id": "IZhChhg8iNJv",
        "colab": {
          "base_uri": "https://localhost:8080/",
          "height": 204
        },
        "outputId": "522de40c-4eaf-45f8-cc86-4c8d3cb1e333"
      },
      "source": [
        "# set the ascending argument to False to sort values from highest to lowest\n",
        "df_sorted = df.sort_values([\"avg brightness\"], ascending = False)\n",
        "# We will overwrite our original variable, but you could use a different variable here if you wanted\n",
        "# to store multiple sorted dataframes\n",
        "\n",
        "df_sorted.head(5)"
      ],
      "execution_count": null,
      "outputs": [
        {
          "output_type": "execute_result",
          "data": {
            "text/html": [
              "<div>\n",
              "<style scoped>\n",
              "    .dataframe tbody tr th:only-of-type {\n",
              "        vertical-align: middle;\n",
              "    }\n",
              "\n",
              "    .dataframe tbody tr th {\n",
              "        vertical-align: top;\n",
              "    }\n",
              "\n",
              "    .dataframe thead th {\n",
              "        text-align: right;\n",
              "    }\n",
              "</style>\n",
              "<table border=\"1\" class=\"dataframe\">\n",
              "  <thead>\n",
              "    <tr style=\"text-align: right;\">\n",
              "      <th></th>\n",
              "      <th>distance</th>\n",
              "      <th>brightness 1</th>\n",
              "      <th>brightness 2</th>\n",
              "      <th>brightness 3</th>\n",
              "      <th>avg brightness</th>\n",
              "    </tr>\n",
              "  </thead>\n",
              "  <tbody>\n",
              "    <tr>\n",
              "      <th>0</th>\n",
              "      <td>0</td>\n",
              "      <td>18357</td>\n",
              "      <td>18307</td>\n",
              "      <td>17100</td>\n",
              "      <td>17921.333333</td>\n",
              "    </tr>\n",
              "    <tr>\n",
              "      <th>1</th>\n",
              "      <td>10</td>\n",
              "      <td>3043</td>\n",
              "      <td>3670</td>\n",
              "      <td>3333</td>\n",
              "      <td>3348.666667</td>\n",
              "    </tr>\n",
              "    <tr>\n",
              "      <th>2</th>\n",
              "      <td>20</td>\n",
              "      <td>821</td>\n",
              "      <td>964</td>\n",
              "      <td>868</td>\n",
              "      <td>884.333333</td>\n",
              "    </tr>\n",
              "    <tr>\n",
              "      <th>3</th>\n",
              "      <td>30</td>\n",
              "      <td>387</td>\n",
              "      <td>387</td>\n",
              "      <td>337</td>\n",
              "      <td>370.333333</td>\n",
              "    </tr>\n",
              "    <tr>\n",
              "      <th>4</th>\n",
              "      <td>40</td>\n",
              "      <td>193</td>\n",
              "      <td>193</td>\n",
              "      <td>193</td>\n",
              "      <td>193.000000</td>\n",
              "    </tr>\n",
              "  </tbody>\n",
              "</table>\n",
              "</div>"
            ],
            "text/plain": [
              "   distance  brightness 1  brightness 2  brightness 3  avg brightness\n",
              "0         0         18357         18307         17100    17921.333333\n",
              "1        10          3043          3670          3333     3348.666667\n",
              "2        20           821           964           868      884.333333\n",
              "3        30           387           387           337      370.333333\n",
              "4        40           193           193           193      193.000000"
            ]
          },
          "metadata": {
            "tags": []
          },
          "execution_count": 26
        }
      ]
    },
    {
      "cell_type": "markdown",
      "metadata": {
        "id": "pVxc4qGFiNJv"
      },
      "source": [
        "Are the distances associated with the largest brightness values large or small?"
      ]
    },
    {
      "cell_type": "markdown",
      "metadata": {
        "id": "vkbNPHoAiNJv"
      },
      "source": [
        "Try it yourself! Sort the dataframe by distance (high to low) and look at the first 5 rows:"
      ]
    },
    {
      "cell_type": "code",
      "metadata": {
        "id": "9dy65D33iNJv",
        "colab": {
          "base_uri": "https://localhost:8080/",
          "height": 359
        },
        "outputId": "0a6bd590-3dc6-404e-f0a0-2dd383f54591"
      },
      "source": [
        "df_sorted = df.sort_values([\"distance\"], ascending = False)\n",
        "df_sorted.head(10)"
      ],
      "execution_count": null,
      "outputs": [
        {
          "output_type": "execute_result",
          "data": {
            "text/html": [
              "<div>\n",
              "<style scoped>\n",
              "    .dataframe tbody tr th:only-of-type {\n",
              "        vertical-align: middle;\n",
              "    }\n",
              "\n",
              "    .dataframe tbody tr th {\n",
              "        vertical-align: top;\n",
              "    }\n",
              "\n",
              "    .dataframe thead th {\n",
              "        text-align: right;\n",
              "    }\n",
              "</style>\n",
              "<table border=\"1\" class=\"dataframe\">\n",
              "  <thead>\n",
              "    <tr style=\"text-align: right;\">\n",
              "      <th></th>\n",
              "      <th>distance</th>\n",
              "      <th>brightness 1</th>\n",
              "      <th>brightness 2</th>\n",
              "      <th>brightness 3</th>\n",
              "      <th>avg brightness</th>\n",
              "    </tr>\n",
              "  </thead>\n",
              "  <tbody>\n",
              "    <tr>\n",
              "      <th>10</th>\n",
              "      <td>100</td>\n",
              "      <td>47</td>\n",
              "      <td>47</td>\n",
              "      <td>47</td>\n",
              "      <td>47.000000</td>\n",
              "    </tr>\n",
              "    <tr>\n",
              "      <th>9</th>\n",
              "      <td>90</td>\n",
              "      <td>47</td>\n",
              "      <td>47</td>\n",
              "      <td>47</td>\n",
              "      <td>47.000000</td>\n",
              "    </tr>\n",
              "    <tr>\n",
              "      <th>8</th>\n",
              "      <td>80</td>\n",
              "      <td>47</td>\n",
              "      <td>47</td>\n",
              "      <td>47</td>\n",
              "      <td>47.000000</td>\n",
              "    </tr>\n",
              "    <tr>\n",
              "      <th>7</th>\n",
              "      <td>70</td>\n",
              "      <td>47</td>\n",
              "      <td>47</td>\n",
              "      <td>47</td>\n",
              "      <td>47.000000</td>\n",
              "    </tr>\n",
              "    <tr>\n",
              "      <th>6</th>\n",
              "      <td>60</td>\n",
              "      <td>47</td>\n",
              "      <td>47</td>\n",
              "      <td>47</td>\n",
              "      <td>47.000000</td>\n",
              "    </tr>\n",
              "    <tr>\n",
              "      <th>5</th>\n",
              "      <td>50</td>\n",
              "      <td>97</td>\n",
              "      <td>97</td>\n",
              "      <td>97</td>\n",
              "      <td>97.000000</td>\n",
              "    </tr>\n",
              "    <tr>\n",
              "      <th>4</th>\n",
              "      <td>40</td>\n",
              "      <td>193</td>\n",
              "      <td>193</td>\n",
              "      <td>193</td>\n",
              "      <td>193.000000</td>\n",
              "    </tr>\n",
              "    <tr>\n",
              "      <th>3</th>\n",
              "      <td>30</td>\n",
              "      <td>387</td>\n",
              "      <td>387</td>\n",
              "      <td>337</td>\n",
              "      <td>370.333333</td>\n",
              "    </tr>\n",
              "    <tr>\n",
              "      <th>2</th>\n",
              "      <td>20</td>\n",
              "      <td>821</td>\n",
              "      <td>964</td>\n",
              "      <td>868</td>\n",
              "      <td>884.333333</td>\n",
              "    </tr>\n",
              "    <tr>\n",
              "      <th>1</th>\n",
              "      <td>10</td>\n",
              "      <td>3043</td>\n",
              "      <td>3670</td>\n",
              "      <td>3333</td>\n",
              "      <td>3348.666667</td>\n",
              "    </tr>\n",
              "  </tbody>\n",
              "</table>\n",
              "</div>"
            ],
            "text/plain": [
              "    distance  brightness 1  brightness 2  brightness 3  avg brightness\n",
              "10       100            47            47            47       47.000000\n",
              "9         90            47            47            47       47.000000\n",
              "8         80            47            47            47       47.000000\n",
              "7         70            47            47            47       47.000000\n",
              "6         60            47            47            47       47.000000\n",
              "5         50            97            97            97       97.000000\n",
              "4         40           193           193           193      193.000000\n",
              "3         30           387           387           337      370.333333\n",
              "2         20           821           964           868      884.333333\n",
              "1         10          3043          3670          3333     3348.666667"
            ]
          },
          "metadata": {
            "tags": []
          },
          "execution_count": 27
        }
      ]
    },
    {
      "cell_type": "markdown",
      "metadata": {
        "id": "4XEesGUKiNJv"
      },
      "source": [
        "## Exporting your processed data"
      ]
    },
    {
      "cell_type": "markdown",
      "metadata": {
        "id": "WV0MhoaJiNJw"
      },
      "source": [
        "You can export your dataframe to your computer as a csv using the .to_csv() function."
      ]
    },
    {
      "cell_type": "code",
      "metadata": {
        "id": "feJNw5heiNJw"
      },
      "source": [
        "df.to_csv(\"lab_averages.csv\", index=False) # index=False removes the index column (1, 2, 3...) from our dataset"
      ],
      "execution_count": null,
      "outputs": []
    },
    {
      "cell_type": "markdown",
      "metadata": {
        "id": "BweSAlhDiNJw"
      },
      "source": [
        "## Graphing our results"
      ]
    },
    {
      "cell_type": "markdown",
      "metadata": {
        "id": "NWvDET_xiNJw"
      },
      "source": [
        "Use matplotlib to graph your results. Try plt.scatter() and plt.plot(). What are the strengths and weaknesses of each type of graph?"
      ]
    },
    {
      "cell_type": "code",
      "metadata": {
        "id": "P-qN5ExuiNJw",
        "colab": {
          "base_uri": "https://localhost:8080/",
          "height": 541
        },
        "outputId": "bd07d564-2396-4746-99dc-98d3d93baac6"
      },
      "source": [
        "# Note: try experimenting with the marker argument for your graphs\n",
        "plt.scatter(df[\"distance\"], df[\"avg brightness\"])\n",
        "plt.xlabel(\"Distance\")\n",
        "plt.ylabel(\"Average Brightness\")\n",
        "plt.show()\n",
        "\n",
        "plt.plot(df[\"distance\"], df[\"avg brightness\"], marker = \"X\")\n",
        "plt.xlabel(\"Distance\")\n",
        "plt.ylabel(\"Average Brightness\")\n",
        "plt.show()"
      ],
      "execution_count": null,
      "outputs": [
        {
          "output_type": "display_data",
          "data": {
            "image/png": "[encoded data removed]",
            "text/plain": [
              "<Figure size 432x288 with 1 Axes>"
            ]
          },
          "metadata": {
            "tags": [],
            "needs_background": "light"
          }
        },
        {
          "output_type": "display_data",
          "data": {
            "image/png": "[encoded data removed]",
            "text/plain": [
              "<Figure size 432x288 with 1 Axes>"
            ]
          },
          "metadata": {
            "tags": [],
            "needs_background": "light"
          }
        }
      ]
    },
    {
      "cell_type": "code",
      "metadata": {
        "id": "PIgYhXBde12_"
      },
      "source": [],
      "execution_count": null,
      "outputs": []
    }
  ]
}