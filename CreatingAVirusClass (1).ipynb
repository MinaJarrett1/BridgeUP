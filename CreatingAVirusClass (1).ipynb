{
  "nbformat": 4,
  "nbformat_minor": 0,
  "metadata": {
    "kernelspec": {
      "display_name": "Python 3",
      "language": "python",
      "name": "python3"
    },
    "language_info": {
      "codemirror_mode": {
        "name": "ipython",
        "version": 3
      },
      "file_extension": ".py",
      "mimetype": "text/x-python",
      "name": "python",
      "nbconvert_exporter": "python",
      "pygments_lexer": "ipython3",
      "version": "3.8.3"
    },
    "colab": {
      "provenance": []
    }
  },
  "cells": [
    {
      "cell_type": "markdown",
      "metadata": {
        "id": "PJ2rN_7QZAbu"
      },
      "source": [
        "# Creating a Virus Class"
      ]
    },
    {
      "cell_type": "markdown",
      "metadata": {
        "id": "vxjPIdRHZAb5"
      },
      "source": [
        "We briefly touched on a number of viruses, some can be mild and some are vastly deadly. However, all viruses have similar base traits that allows us to classify it as a virus, different from bacteria. \n",
        "\n",
        "List some variables and values that can be classified as a common trait among viruses:"
      ]
    },
    {
      "cell_type": "code",
      "metadata": {
        "id": "83Z9l3dKZAb7"
      },
      "source": [
        "virusDefinition = \"submicroscopic particle that can infect living cells\"\n",
        "virusGoal = \"reproduce using the cells of the host\"\n",
        "virusLocation = \"genetic information located in the capsid\""
      ],
      "execution_count": null,
      "outputs": []
    },
    {
      "cell_type": "markdown",
      "metadata": {
        "id": "oswiBdThZAb-"
      },
      "source": [
        "What is a **class**?\n",
        "* Classes provide a means of bundling data and functionality together.\n",
        "* Creating a new class creates a new type of object (a user-defined variable), allowing new instances of that type to be made. \n",
        "\n",
        "Create a `Virus` class with all of the above properties.\n",
        "\n"
      ]
    },
    {
      "cell_type": "code",
      "metadata": {
        "id": "RvvmSsWsZAcA"
      },
      "source": [
        "class Virus:\n",
        "  definition = \"submicroscopic particle that can infect living cells\"\n",
        "  goal =  \"reproduce using the cells of the host\"\n",
        "  location = \"genetic information located in the capsid\""
      ],
      "execution_count": null,
      "outputs": []
    },
    {
      "cell_type": "markdown",
      "metadata": {
        "id": "QR76VulKZAcB"
      },
      "source": [
        "Now create an OBJECT/instance of class \"Virus\"."
      ]
    },
    {
      "cell_type": "code",
      "metadata": {
        "id": "pDQBfz32ZAcC"
      },
      "source": [
        "virusSpecimen = Virus()"
      ],
      "execution_count": null,
      "outputs": []
    },
    {
      "cell_type": "markdown",
      "metadata": {
        "id": "dAoVNvozZAcD"
      },
      "source": [
        "Access the class variables of the virus specimen using the dot operator."
      ]
    },
    {
      "cell_type": "code",
      "metadata": {
        "colab": {
          "base_uri": "https://localhost:8080/",
          "height": 35
        },
        "id": "TilDP1NBZAcE",
        "outputId": "443a7f13-0714-4297-b7f0-be24472067b4"
      },
      "source": [
        "virusSpecimen.definition"
      ],
      "execution_count": null,
      "outputs": [
        {
          "output_type": "execute_result",
          "data": {
            "application/vnd.google.colaboratory.intrinsic+json": {
              "type": "string"
            },
            "text/plain": [
              "'submicroscopic particle that can infect living cells'"
            ]
          },
          "metadata": {
            "tags": []
          },
          "execution_count": 5
        }
      ]
    },
    {
      "cell_type": "code",
      "metadata": {
        "colab": {
          "base_uri": "https://localhost:8080/",
          "height": 35
        },
        "id": "Stpq-2w6ZAcE",
        "outputId": "44576b5f-7bee-49f3-c712-95f34107cf01"
      },
      "source": [
        "virusSpecimen.goal"
      ],
      "execution_count": null,
      "outputs": [
        {
          "output_type": "execute_result",
          "data": {
            "application/vnd.google.colaboratory.intrinsic+json": {
              "type": "string"
            },
            "text/plain": [
              "'reproduce using the cells of the host'"
            ]
          },
          "metadata": {
            "tags": []
          },
          "execution_count": 6
        }
      ]
    },
    {
      "cell_type": "code",
      "metadata": {
        "colab": {
          "base_uri": "https://localhost:8080/",
          "height": 35
        },
        "id": "txhGqABpZAcF",
        "outputId": "d8c01d96-e33d-465d-ed3e-aa718f249dc9"
      },
      "source": [
        "virusSpecimen.location"
      ],
      "execution_count": null,
      "outputs": [
        {
          "output_type": "execute_result",
          "data": {
            "application/vnd.google.colaboratory.intrinsic+json": {
              "type": "string"
            },
            "text/plain": [
              "'genetic information located in the capsid'"
            ]
          },
          "metadata": {
            "tags": []
          },
          "execution_count": 7
        }
      ]
    },
    {
      "cell_type": "markdown",
      "metadata": {
        "id": "bJhOe1smZAcG"
      },
      "source": [
        "## Inheritance"
      ]
    },
    {
      "cell_type": "markdown",
      "metadata": {
        "id": "3pIOC5-iZAcI"
      },
      "source": [
        "**Inheritance** allows us to define a class that inherits all the methods and properties from another class.\n",
        "\n",
        "Inheritance involves two types of classes:\n",
        "* Parent Class (the class being inherited from, also called base class)\n",
        "* Child Class (the class that inherits from another class, also called derived class)\n",
        "\n",
        "In the context of viruses, what is the parent class? What are possible child classes?\n",
        "\n",
        "**List of viruses:**\n",
        "* COVID-19\n",
        "* HIV\n",
        "* HSV-1\n",
        "* Ebola\n",
        "* Zika\n",
        "\n",
        "What are some traits of these specific viruses that can vary? \n",
        "\n",
        "Create a child class using the specific traits for `MEV1` from the movie, *Contagion* (2011), and inherit the attributes from the `Virus` class."
      ]
    },
    {
      "cell_type": "code",
      "metadata": {
        "id": "CU8D8DwiZAcJ"
      },
      "source": [
        "class MEV1(Virus):\n",
        "  genus = \"Henipavirus\"\n",
        "  family = \"Paramyxoviridae\"\n",
        "  transmission = [\"respiratory\", \"fomites\"]\n",
        "  symptoms = [\"coughing\", \"seizures\", \"encephalitis\", \"fever\"]\n",
        "  host = [\"pigs\", \"bats\", \"humans\"]\n"
      ],
      "execution_count": null,
      "outputs": []
    },
    {
      "cell_type": "markdown",
      "metadata": {
        "id": "dC8vQ_2XZAcK"
      },
      "source": [
        "Create an object representing a specimen of MEV-1 using the class we just created."
      ]
    },
    {
      "cell_type": "code",
      "metadata": {
        "id": "vSKnLJ3EZAcL"
      },
      "source": [],
      "execution_count": null,
      "outputs": []
    },
    {
      "cell_type": "markdown",
      "metadata": {
        "id": "GKWEeGGeZAcL"
      },
      "source": [
        "Access the class variables specific to `MEV1` and also its inherited traits from its parent, `Virus`."
      ]
    },
    {
      "cell_type": "code",
      "metadata": {
        "id": "Hsp6rEmLZAcM"
      },
      "source": [],
      "execution_count": null,
      "outputs": []
    },
    {
      "cell_type": "code",
      "metadata": {
        "id": "EZGpjRC5ZAcO"
      },
      "source": [],
      "execution_count": null,
      "outputs": []
    },
    {
      "cell_type": "code",
      "metadata": {
        "id": "dmplP22oZAcP"
      },
      "source": [],
      "execution_count": null,
      "outputs": []
    },
    {
      "cell_type": "code",
      "metadata": {
        "id": "beVK_BmwZAcQ"
      },
      "source": [],
      "execution_count": null,
      "outputs": []
    },
    {
      "cell_type": "markdown",
      "metadata": {
        "id": "iMQnZ0uSZAcR"
      },
      "source": [
        "## Activity - Create Child Classes for each Virus!"
      ]
    },
    {
      "cell_type": "markdown",
      "metadata": {
        "id": "RpIuFhubZAcR"
      },
      "source": [
        "Using the concept of classes and inheritance of the `Virus` class, create a separate child class for each of the following viruses:\n",
        "\n",
        "* COVID-19\n",
        "* HIV\n",
        "* HSV-1\n",
        "* Ebola\n",
        "* Zika\n",
        "\n",
        "\n",
        "Make sure to include the following attributes for each type of virus:\n",
        "* genus\n",
        "* family\n",
        "* host\n",
        "* transmission\n",
        "* symptoms\n",
        "* any other attribute you would like to add which pertains to that specific virus! :D \n",
        "\n",
        "Don't forget to access the attributes, afterward.\n",
        "\n",
        "You may use these resources when researching the traits of each virus.\n",
        "* https://viralzone.expasy.org/678\n",
        "* Google"
      ]
    },
    {
      "cell_type": "code",
      "metadata": {
        "id": "lcQDc0f6ZAcS"
      },
      "source": [
        "class COVID-19(Virus) :\n",
        "  genus = \"Betacoronavirus\"\n",
        "  family = \"Coronaviridae\"\n",
        "  transmission = [\"respiratory\", \"fomites\"]\n",
        "  symptoms = [\"coughing\", \"loss of taste\", \"chills\", \"fever\", \"body aches\", \"sore throat\", \"difficulty breathing\"]\n",
        "  host = [\"pigs\", \"bats\", \"humans\"]\n"
      ],
      "execution_count": null,
      "outputs": []
    },
    {
      "cell_type": "code",
      "metadata": {
        "id": "gOhhmfvPZAcT"
      },
      "source": [
        "class HIV(Virus):\n",
        "  genus = \"Lentivirus\"\"\n",
        "  family = \"Retroviridae\"\n",
        "  transmission = [\"sharing needles\", \"anal or vaginal sex\", \"breastmilk\"]\n",
        "  symptoms = [\"fever\", \"fatigue\", \"sore throat\", \"weight loss\"]\n",
        "  host = [\"chimps\", \"humans\"]"
      ],
      "execution_count": null,
      "outputs": []
    },
    {
      "cell_type": "code",
      "metadata": {
        "id": "Lw4WyvrSZAcU"
      },
      "source": [
        "class HSV-1(Virus):\n",
        "  genus = \"Simplexvirus\"\n",
        "  family = \"HerpesViridae\"\n",
        "  transmission = [\"oral contact\", \"oral to genital contact\"]\n",
        "  symptoms = [\"sores\"]\n",
        "  host = [\"humans\", \"\"]"
      ],
      "execution_count": null,
      "outputs": []
    },
    {
      "cell_type": "code",
      "metadata": {
        "id": "sXS_OHa2ZAcV"
      },
      "source": [
        "class Ebola(Virus):\n",
        "  genus = \"EbolaVirus\"\n",
        "  family = \"Filoviridae\"\n",
        "  transmission =\n",
        "  symptoms =\n",
        "  host = [\"fruitbats\", \"humans\", \"apes\", \"monkeys\"]"
      ],
      "execution_count": null,
      "outputs": []
    },
    {
      "cell_type": "code",
      "metadata": {
        "id": "sADz2YpcZAcV"
      },
      "source": [
        "class Zika(Virus):\n",
        "  genus = \"Flavivirus\"\n",
        "  family = \"Flaviviridae\"\n",
        "  transmission =\n",
        "  symptoms =\n",
        "  host = [\"humans\", \"monkeys\", \"goats\", \"sheep\", \"cows\", \"bats\", \"horses\", \"rodents\"]"
      ],
      "execution_count": null,
      "outputs": []
    },
    {
      "cell_type": "code",
      "metadata": {
        "id": "c7WJvgekZAcW"
      },
      "source": [],
      "execution_count": null,
      "outputs": []
    },
    {
      "cell_type": "code",
      "metadata": {
        "id": "anvc7U-XZAcX"
      },
      "source": [],
      "execution_count": null,
      "outputs": []
    },
    {
      "cell_type": "code",
      "metadata": {
        "id": "mgDHhZtpZAcX"
      },
      "source": [],
      "execution_count": null,
      "outputs": []
    },
    {
      "cell_type": "code",
      "metadata": {
        "id": "mBPQeA1dZAcX"
      },
      "source": [],
      "execution_count": null,
      "outputs": []
    },
    {
      "cell_type": "code",
      "metadata": {
        "id": "aTozzJUDZAcY"
      },
      "source": [],
      "execution_count": null,
      "outputs": []
    },
    {
      "cell_type": "code",
      "metadata": {
        "collapsed": true,
        "id": "zKqLIh9EZAcY"
      },
      "source": [],
      "execution_count": null,
      "outputs": []
    }
  ]
}