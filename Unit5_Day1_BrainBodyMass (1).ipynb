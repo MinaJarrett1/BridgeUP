{
  "nbformat": 4,
  "nbformat_minor": 0,
  "metadata": {
    "kernelspec": {
      "display_name": "Python 3",
      "language": "python",
      "name": "python3"
    },
    "language_info": {
      "codemirror_mode": {
        "name": "ipython",
        "version": 3
      },
      "file_extension": ".py",
      "mimetype": "text/x-python",
      "name": "python",
      "nbconvert_exporter": "python",
      "pygments_lexer": "ipython3",
      "version": "3.8.3"
    },
    "colab": {
      "provenance": [],
      "toc_visible": true
    }
  },
  "cells": [
    {
      "cell_type": "markdown",
      "metadata": {
        "id": "uaUT163gPb-Y"
      },
      "source": [
        "# Comparing brain to body mass ratios\n",
        "\n",
        "In this Jupyter Notebook you will write a function that takes a data frame and two column names and returns the average brain to body mass ratio for a given type of animal. Let's find out how smart animals are!"
      ]
    },
    {
      "cell_type": "markdown",
      "metadata": {
        "id": "3EXCioGOPb-0"
      },
      "source": [
        "Import the pandas library. We're going to need it!"
      ]
    },
    {
      "cell_type": "code",
      "metadata": {
        "collapsed": true,
        "id": "pcp4jZ0bPb-2"
      },
      "source": [
        "import pandas as pd"
      ],
      "execution_count": null,
      "outputs": []
    },
    {
      "cell_type": "code",
      "metadata": {
        "colab": {
          "base_uri": "https://localhost:8080/"
        },
        "id": "MvuHOTJ2QAnC",
        "outputId": "49a2a717-8b96-4fa1-acd4-8e6b503c3b98"
      },
      "source": [
        "from google.colab import drive\n",
        "drive.mount('/content/drive')"
      ],
      "execution_count": null,
      "outputs": [
        {
          "output_type": "stream",
          "text": [
            "Drive already mounted at /content/drive; to attempt to forcibly remount, call drive.mount(\"/content/drive\", force_remount=True).\n"
          ],
          "name": "stdout"
        }
      ]
    },
    {
      "cell_type": "markdown",
      "metadata": {
        "id": "oWl8lC85Pb-3"
      },
      "source": [
        "Now create a data frame for the kind of animal that you worked with earlier today:\n",
        "\n",
        "**Note: We will be making more data frames later, so you should create a more specific variable than \"df\"**"
      ]
    },
    {
      "cell_type": "code",
      "metadata": {
        "collapsed": true,
        "id": "We8T2BSLPb-5"
      },
      "source": [
        "Birdbrainmass = pd.read_csv(\"/content/drive/MyDrive/bird_body_brain_mass.csv\")"
      ],
      "execution_count": null,
      "outputs": []
    },
    {
      "cell_type": "markdown",
      "metadata": {
        "id": "-g2VpXW7Pb-6"
      },
      "source": [
        "Find the header for this data frame:"
      ]
    },
    {
      "cell_type": "code",
      "metadata": {
        "colab": {
          "base_uri": "https://localhost:8080/",
          "height": 204
        },
        "id": "5yQMHKVLPb-7",
        "outputId": "5aa0ae0d-3ac9-45e6-c35f-d9a117e77258"
      },
      "source": [
        "Birdbrainmass.head()"
      ],
      "execution_count": null,
      "outputs": [
        {
          "output_type": "execute_result",
          "data": {
            "text/html": [
              "<div>\n",
              "<style scoped>\n",
              "    .dataframe tbody tr th:only-of-type {\n",
              "        vertical-align: middle;\n",
              "    }\n",
              "\n",
              "    .dataframe tbody tr th {\n",
              "        vertical-align: top;\n",
              "    }\n",
              "\n",
              "    .dataframe thead th {\n",
              "        text-align: right;\n",
              "    }\n",
              "</style>\n",
              "<table border=\"1\" class=\"dataframe\">\n",
              "  <thead>\n",
              "    <tr style=\"text-align: right;\">\n",
              "      <th></th>\n",
              "      <th>Genus</th>\n",
              "      <th>Species</th>\n",
              "      <th>Brain mass (g)</th>\n",
              "      <th>Body mass (g)</th>\n",
              "    </tr>\n",
              "  </thead>\n",
              "  <tbody>\n",
              "    <tr>\n",
              "      <th>0</th>\n",
              "      <td>Uria</td>\n",
              "      <td>aalge</td>\n",
              "      <td>4.950</td>\n",
              "      <td>934.5</td>\n",
              "    </tr>\n",
              "    <tr>\n",
              "      <th>1</th>\n",
              "      <td>Uria</td>\n",
              "      <td>aalge</td>\n",
              "      <td>5.631</td>\n",
              "      <td>1184.0</td>\n",
              "    </tr>\n",
              "    <tr>\n",
              "      <th>2</th>\n",
              "      <td>Uria</td>\n",
              "      <td>aalge</td>\n",
              "      <td>4.903</td>\n",
              "      <td>714.0</td>\n",
              "    </tr>\n",
              "    <tr>\n",
              "      <th>3</th>\n",
              "      <td>Uria</td>\n",
              "      <td>aalge</td>\n",
              "      <td>4.360</td>\n",
              "      <td>633.0</td>\n",
              "    </tr>\n",
              "    <tr>\n",
              "      <th>4</th>\n",
              "      <td>Uria</td>\n",
              "      <td>aalge</td>\n",
              "      <td>4.193</td>\n",
              "      <td>586.0</td>\n",
              "    </tr>\n",
              "  </tbody>\n",
              "</table>\n",
              "</div>"
            ],
            "text/plain": [
              "  Genus Species  Brain mass (g)  Body mass (g)\n",
              "0  Uria   aalge           4.950          934.5\n",
              "1  Uria   aalge           5.631         1184.0\n",
              "2  Uria   aalge           4.903          714.0\n",
              "3  Uria   aalge           4.360          633.0\n",
              "4  Uria   aalge           4.193          586.0"
            ]
          },
          "metadata": {
            "tags": []
          },
          "execution_count": 12
        }
      ]
    },
    {
      "cell_type": "markdown",
      "metadata": {
        "id": "TeM_ah5WPb-8"
      },
      "source": [
        "Find the number of rows in this data frame:"
      ]
    },
    {
      "cell_type": "code",
      "metadata": {
        "colab": {
          "base_uri": "https://localhost:8080/"
        },
        "id": "4g1X4hFZPb-8",
        "outputId": "3bdeaa1d-c6e8-4eef-cc6b-faa60d2d9047"
      },
      "source": [
        "len(Birdbrainmass)"
      ],
      "execution_count": null,
      "outputs": [
        {
          "output_type": "execute_result",
          "data": {
            "text/plain": [
              "4387"
            ]
          },
          "metadata": {
            "tags": []
          },
          "execution_count": 13
        }
      ]
    },
    {
      "cell_type": "markdown",
      "metadata": {
        "id": "-vMqPAm_Pb--"
      },
      "source": [
        "Now write code that finds the average brain to body mass ratio for that animal.\n",
        "Remember: a brain to body mass ratio is simply the brain mass divided by the body mass."
      ]
    },
    {
      "cell_type": "code",
      "metadata": {
        "colab": {
          "base_uri": "https://localhost:8080/"
        },
        "id": "nB0FShn6Pb_A",
        "outputId": "feb2c16a-c316-45f2-ac04-8ea510974eed"
      },
      "source": [
        "#brainM = Birdbrainmass[\"Brain mass (g)\"].mean()\n",
        "#bodyM = Birdbrainmass[\"Body mass (g)\"].mean()\n",
        "BrainBodyRatio = Birdbrainmass[\"Brain mass (g)\"]/Birdbrainmass[\"Body mass (g)\"]\n",
        "#BrainBodyRatio = brainM/bodyM\n",
        "#print(BrainBodyRatio)\n",
        "BrainBodyRatio.mean()"
      ],
      "execution_count": null,
      "outputs": [
        {
          "output_type": "execute_result",
          "data": {
            "text/plain": [
              "0.02721064048119079"
            ]
          },
          "metadata": {
            "tags": []
          },
          "execution_count": 19
        }
      ]
    },
    {
      "cell_type": "markdown",
      "metadata": {
        "id": "Tx4cGsRmPb_A"
      },
      "source": [
        "## Making a function"
      ]
    },
    {
      "cell_type": "markdown",
      "metadata": {
        "id": "Hrq7XIjyPb_B"
      },
      "source": [
        "Now it's time to make our function! You want to write a function that takes the name of the dataframe and the name of two columns and returns the average brain to body mass ratio. \n",
        "\n",
        "Remember: a brain to body mass ratio is simply the brain mass divided by the body mass\n",
        "\n",
        "It's probably a good idea to start with pseudocode!"
      ]
    },
    {
      "cell_type": "code",
      "metadata": {
        "collapsed": true,
        "id": "v6g1yJh6Pb_C"
      },
      "source": [
        "def ratio(dataframe, brainColumn, bodyColumn):\n",
        "  btbmratio = dataframe[brainColumn]/dataframe[bodyColumn]\n",
        "  print(btbmratio.mean())"
      ],
      "execution_count": null,
      "outputs": []
    },
    {
      "cell_type": "code",
      "metadata": {
        "colab": {
          "base_uri": "https://localhost:8080/"
        },
        "id": "y4B0ddnWPb_C",
        "outputId": "c7c74a17-1779-4f86-bf9e-3eaebe1bb73f"
      },
      "source": [
        "birdRatio = ratio(Birdbrainmass, \"Brain mass (g)\", \"Body mass (g)\")"
      ],
      "execution_count": null,
      "outputs": [
        {
          "output_type": "stream",
          "text": [
            "0.02721064048119079\n"
          ],
          "name": "stdout"
        }
      ]
    },
    {
      "cell_type": "markdown",
      "metadata": {
        "id": "tEhYyYuUPb_D"
      },
      "source": [
        "Now read the other csv files into data frames and call your function for all of them:"
      ]
    },
    {
      "cell_type": "code",
      "metadata": {
        "id": "MNLHjDj3XSQ2"
      },
      "source": [],
      "execution_count": null,
      "outputs": []
    },
    {
      "cell_type": "code",
      "metadata": {
        "collapsed": true,
        "colab": {
          "base_uri": "https://localhost:8080/"
        },
        "id": "Ur93JEX6Pb_E",
        "outputId": "ad070b0d-b1ae-406f-b4de-54852b072131"
      },
      "source": [
        "reptilebodybrainmass = pd.read_csv(\"/content/drive/MyDrive/reptile_body_brain_mass.csv\")\n",
        "reptilebodybrainmass.head()\n",
        "reptileratio = ratio(reptilebodybrainmass, \"Brain weight (g)\", \"Body weight (g)\")"
      ],
      "execution_count": null,
      "outputs": [
        {
          "output_type": "stream",
          "text": [
            "0.007955436245419471\n"
          ],
          "name": "stdout"
        }
      ]
    },
    {
      "cell_type": "code",
      "metadata": {
        "colab": {
          "base_uri": "https://localhost:8080/"
        },
        "id": "5i28SBeRPb_F",
        "outputId": "91d08833-699a-49f8-d819-8f724016dd3d"
      },
      "source": [
        "amphibianbodybrainmass = pd.read_csv(\"/content/drive/MyDrive/amphibian_body_brain_mass.csv\")\n",
        "amphibianbodybrainmass.head()\n",
        "amphibianratio = ratio(amphibianbodybrainmass, \"Brain weight (g)\", \"Body weight (g)\")"
      ],
      "execution_count": null,
      "outputs": [
        {
          "output_type": "stream",
          "text": [
            "0.005301439713950685\n"
          ],
          "name": "stdout"
        }
      ]
    },
    {
      "cell_type": "code",
      "metadata": {
        "colab": {
          "base_uri": "https://localhost:8080/"
        },
        "id": "B7G76OTPPb_F",
        "outputId": "f852a7d6-9da1-499c-d4b1-717b5f43c0b4"
      },
      "source": [
        "fishbodybrainmass = pd.read_csv(\"/content/drive/MyDrive/fish_body_brain_mass.csv\")\n",
        "fishbodybrainmass.head()\n",
        "fishratio = ratio(fishbodybrainmass, \"Brain weight (g)\", \"Body weight (g)\")"
      ],
      "execution_count": null,
      "outputs": [
        {
          "output_type": "stream",
          "text": [
            "0.005496294578750244\n"
          ],
          "name": "stdout"
        }
      ]
    },
    {
      "cell_type": "code",
      "metadata": {
        "colab": {
          "base_uri": "https://localhost:8080/"
        },
        "id": "k9-Vo-3WPb_G",
        "outputId": "fa53b922-c1c3-4fc5-9dd1-500cc6cadf32"
      },
      "source": [
        "mammalbodybrainmass =pd.read_csv(\"/content/drive/MyDrive/mammal_body_brain_mass.csv\")\n",
        "mammalbodybrainmass.head()\n",
        "mammalratio = ratio(mammalbodybrainmass, \"Brain mass (g)\", \"Body mass (g)\")"
      ],
      "execution_count": null,
      "outputs": [
        {
          "output_type": "stream",
          "text": [
            "0.015537946938777998\n"
          ],
          "name": "stdout"
        }
      ]
    },
    {
      "cell_type": "markdown",
      "metadata": {
        "id": "MUMk7Ts2Pb_G"
      },
      "source": [
        "## Bonus Challenge\n",
        "Create a bar graph that compares the average brain to body mass ratios for each animal type:"
      ]
    },
    {
      "cell_type": "code",
      "metadata": {
        "collapsed": true,
        "colab": {
          "base_uri": "https://localhost:8080/",
          "height": 296
        },
        "id": "Tmzij782Pb_H",
        "outputId": "04d7dd6f-2844-41b6-bfa1-160ecc634b2f"
      },
      "source": [
        "import matplotlib.pyplot as plt\n",
        "x = ('Amphibian', 'Birds', 'Fish', 'mammals', 'reptiles')\n",
        "y = (0.005301439713950685, 0.02721064048119079, 0.005496294578750244,0.015537946938777998,0.007955436245419471 )\n",
        "plt.bar(x,y)\n",
        "plt.title\n",
        "plt.xlabel(\"Animal\")\n",
        "plt.ylabel(\"Brain to Body Mass Ratio\")\n",
        "plt.show"
      ],
      "execution_count": null,
      "outputs": [
        {
          "output_type": "execute_result",
          "data": {
            "text/plain": [
              "<function matplotlib.pyplot.show>"
            ]
          },
          "metadata": {
            "tags": []
          },
          "execution_count": 37
        },
        {
          "output_type": "display_data",
          "data": {
            "image/png": "[encoded data removed]",
            "text/plain": [
              "<Figure size 432x288 with 1 Axes>"
            ]
          },
          "metadata": {
            "tags": [],
            "needs_background": "light"
          }
        }
      ]
    }
  ]
}