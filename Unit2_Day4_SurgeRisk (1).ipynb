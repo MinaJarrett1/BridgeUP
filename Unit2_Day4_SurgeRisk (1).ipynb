{
  "nbformat": 4,
  "nbformat_minor": 0,
  "metadata": {
    "colab": {
      "provenance": [],
      "collapsed_sections": []
    },
    "kernelspec": {
      "display_name": "Python 3",
      "language": "python",
      "name": "python3"
    },
    "language_info": {
      "codemirror_mode": {
        "name": "ipython",
        "version": 3
      },
      "file_extension": ".py",
      "mimetype": "text/x-python",
      "name": "python",
      "nbconvert_exporter": "python",
      "pygments_lexer": "ipython3",
      "version": "3.5.2"
    }
  },
  "cells": [
    {
      "cell_type": "markdown",
      "metadata": {
        "id": "Ha_3E7z4Ousn"
      },
      "source": [
        "# Evaluating Storm Surge Risk\n",
        "\n",
        "In this notebook you will explore the risk to different countries around the world caused by sea level rise and increasing storms."
      ]
    },
    {
      "cell_type": "markdown",
      "metadata": {
        "id": "_kOfHPesOusn"
      },
      "source": [
        "We will be plotting our data using matplotlib, so import that library with its alias:"
      ]
    },
    {
      "cell_type": "code",
      "metadata": {
        "id": "7JL_YAP-Ousn"
      },
      "source": [
        "import matplotlib.pyplot as plt"
      ],
      "execution_count": null,
      "outputs": []
    },
    {
      "cell_type": "markdown",
      "metadata": {
        "id": "-XZetEOeOusn"
      },
      "source": [
        "## Exploring the data\n",
        "Look on Slack for your region and copy and paste the list of data into the cell below (remember to assign it to a variable):\n",
        "\n",
        "Note: Your data is a list of lists. Each list contains the following values for the countries in your region with the largest percentage of urban inhabitants:\n",
        "- Country name\n",
        "- Latitude\n",
        "- Longitude\n",
        "- Population (2008)\n",
        "- Population in storm surge area (2008)"
      ]
    },
    {
      "cell_type": "code",
      "metadata": {
        "id": "GMb0o48pOusn"
      },
      "source": [
        "Oceania_data = [[\"Guam\", 13.444304, 144.793731, 175990, 3920], [\"American Samoa\", -14.270972, -170.132217, 64830, 1410],\n",
        "        [\"Iceland\", 64.963051, -19.020835, 304370, 19460], [\"Northern Mariana Islands\", 17.33083, 145.38469, 55240, 3030],\n",
        "        [\"Australia\", -25.274398, 133.775136, 21007310, 852720], [\"New Zealand\", -40.900557, 174.885971, 4173460, 210900],\n",
        "        [\"Greenland\", 71.706936, -42.604303, 57560, 13610], [\"Palau\", 7.51498, 134.58252, 20700, 790],\n",
        "        [\"Marshall Islands\", 7.131474, 171.184478, 63170, 9700], [\"Svalbard and Jan Mayen\", 77.553604, 23.670272, 2160, 220]]"
      ],
      "execution_count": null,
      "outputs": []
    },
    {
      "cell_type": "markdown",
      "metadata": {
        "id": "KUlYyiPrOusn"
      },
      "source": [
        "Let's practice using list indexes. Print out the first list from your data:"
      ]
    },
    {
      "cell_type": "code",
      "metadata": {
        "colab": {
          "base_uri": "https://localhost:8080/"
        },
        "id": "lQqCJ-2rOuso",
        "outputId": "03aa3ff6-e577-4994-f8e5-24d4eda1fad7"
      },
      "source": [
        "print(Oceania_data[0])"
      ],
      "execution_count": null,
      "outputs": [
        {
          "output_type": "stream",
          "text": [
            "['Guam', 13.444304, 144.793731, 175990, 3920]\n"
          ],
          "name": "stdout"
        }
      ]
    },
    {
      "cell_type": "markdown",
      "metadata": {
        "id": "DyJQkA6rOuso"
      },
      "source": [
        "Now, print out just the latitude from that list:"
      ]
    },
    {
      "cell_type": "code",
      "metadata": {
        "colab": {
          "base_uri": "https://localhost:8080/"
        },
        "id": "FeTEbZsnOuso",
        "outputId": "ea7f4061-7ae2-4b0a-a6fb-37fc2dd9d221"
      },
      "source": [
        "# Hint: If one of the values in a list is a list itself, you can index it like this: my_list[0][0]\n",
        "print(Oceania_data[0][1])\n"
      ],
      "execution_count": null,
      "outputs": [
        {
          "output_type": "stream",
          "text": [
            "13.444304\n"
          ],
          "name": "stdout"
        }
      ]
    },
    {
      "cell_type": "markdown",
      "metadata": {
        "id": "5BSsLnogOuso"
      },
      "source": [
        "You can select more than one value from a list using a \"slice\". \n",
        "\n",
        "For example, [0] selects just the first value and [1] selects just the second value, but [0:2] selects values one and two. \n",
        "\n",
        "Note: you need to slice from the first value you want to **the last value you want +1**\n",
        "\n",
        "Try it yourself! Print out the latitude and longitude from the first item in your list using a slice:"
      ]
    },
    {
      "cell_type": "code",
      "metadata": {
        "colab": {
          "base_uri": "https://localhost:8080/"
        },
        "id": "5RZwaGS9Ouso",
        "outputId": "cac59c53-edb1-43fb-ecef-ebc146e4ec15"
      },
      "source": [
        "print(Oceania_data[0][1:3])"
      ],
      "execution_count": null,
      "outputs": [
        {
          "output_type": "stream",
          "text": [
            "[13.444304, 144.793731]\n"
          ],
          "name": "stdout"
        }
      ]
    },
    {
      "cell_type": "markdown",
      "metadata": {
        "id": "WaVjfs_AOuso"
      },
      "source": [
        "## Assessing risk\n",
        "\n",
        "Let's find out which countries in your region are at the highest risk. \n",
        "\n",
        "First, write code that loops through each list in your data and prints out the population in the storm surge area:"
      ]
    },
    {
      "cell_type": "code",
      "metadata": {
        "colab": {
          "base_uri": "https://localhost:8080/"
        },
        "id": "8e2i_sMLOuso",
        "outputId": "1ae161fb-78f4-431b-fd1b-e950453f0a59"
      },
      "source": [
        "for i in Oceania_data:\n",
        "  print(Oceania_data[0:5])"
      ],
      "execution_count": null,
      "outputs": [
        {
          "output_type": "stream",
          "text": [
            "[['Guam', 13.444304, 144.793731, 175990, 3920], ['American Samoa', -14.270972, -170.132217, 64830, 1410], ['Iceland', 64.963051, -19.020835, 304370, 19460], ['Northern Mariana Islands', 17.33083, 145.38469, 55240, 3030], ['Australia', -25.274398, 133.775136, 21007310, 852720]]\n",
            "[['Guam', 13.444304, 144.793731, 175990, 3920], ['American Samoa', -14.270972, -170.132217, 64830, 1410], ['Iceland', 64.963051, -19.020835, 304370, 19460], ['Northern Mariana Islands', 17.33083, 145.38469, 55240, 3030], ['Australia', -25.274398, 133.775136, 21007310, 852720]]\n",
            "[['Guam', 13.444304, 144.793731, 175990, 3920], ['American Samoa', -14.270972, -170.132217, 64830, 1410], ['Iceland', 64.963051, -19.020835, 304370, 19460], ['Northern Mariana Islands', 17.33083, 145.38469, 55240, 3030], ['Australia', -25.274398, 133.775136, 21007310, 852720]]\n",
            "[['Guam', 13.444304, 144.793731, 175990, 3920], ['American Samoa', -14.270972, -170.132217, 64830, 1410], ['Iceland', 64.963051, -19.020835, 304370, 19460], ['Northern Mariana Islands', 17.33083, 145.38469, 55240, 3030], ['Australia', -25.274398, 133.775136, 21007310, 852720]]\n",
            "[['Guam', 13.444304, 144.793731, 175990, 3920], ['American Samoa', -14.270972, -170.132217, 64830, 1410], ['Iceland', 64.963051, -19.020835, 304370, 19460], ['Northern Mariana Islands', 17.33083, 145.38469, 55240, 3030], ['Australia', -25.274398, 133.775136, 21007310, 852720]]\n",
            "[['Guam', 13.444304, 144.793731, 175990, 3920], ['American Samoa', -14.270972, -170.132217, 64830, 1410], ['Iceland', 64.963051, -19.020835, 304370, 19460], ['Northern Mariana Islands', 17.33083, 145.38469, 55240, 3030], ['Australia', -25.274398, 133.775136, 21007310, 852720]]\n",
            "[['Guam', 13.444304, 144.793731, 175990, 3920], ['American Samoa', -14.270972, -170.132217, 64830, 1410], ['Iceland', 64.963051, -19.020835, 304370, 19460], ['Northern Mariana Islands', 17.33083, 145.38469, 55240, 3030], ['Australia', -25.274398, 133.775136, 21007310, 852720]]\n",
            "[['Guam', 13.444304, 144.793731, 175990, 3920], ['American Samoa', -14.270972, -170.132217, 64830, 1410], ['Iceland', 64.963051, -19.020835, 304370, 19460], ['Northern Mariana Islands', 17.33083, 145.38469, 55240, 3030], ['Australia', -25.274398, 133.775136, 21007310, 852720]]\n",
            "[['Guam', 13.444304, 144.793731, 175990, 3920], ['American Samoa', -14.270972, -170.132217, 64830, 1410], ['Iceland', 64.963051, -19.020835, 304370, 19460], ['Northern Mariana Islands', 17.33083, 145.38469, 55240, 3030], ['Australia', -25.274398, 133.775136, 21007310, 852720]]\n",
            "[['Guam', 13.444304, 144.793731, 175990, 3920], ['American Samoa', -14.270972, -170.132217, 64830, 1410], ['Iceland', 64.963051, -19.020835, 304370, 19460], ['Northern Mariana Islands', 17.33083, 145.38469, 55240, 3030], ['Australia', -25.274398, 133.775136, 21007310, 852720]]\n"
          ],
          "name": "stdout"
        }
      ]
    },
    {
      "cell_type": "markdown",
      "metadata": {
        "id": "REl6ACPwOuso"
      },
      "source": [
        "Now write code that prints the percent of the population in each country that lives in the storm surge area:\n",
        "Note: percent = subset/total * 100"
      ]
    },
    {
      "cell_type": "code",
      "metadata": {
        "id": "OfQ4Wc1mOuso",
        "colab": {
          "base_uri": "https://localhost:8080/"
        },
        "outputId": "58fd5264-7759-4c69-9912-56aaab69e3c7"
      },
      "source": [
        "# For a challenge, try including the name of the country in your print statement\n",
        "for i in Oceania_data:\n",
        "  print(i[3])\n",
        "  total_population = i[3]\n",
        "  subset_population = i[4]\n",
        "  percent = subset_population/total_population*100\n",
        "  print(percent)"
      ],
      "execution_count": null,
      "outputs": [
        {
          "output_type": "stream",
          "text": [
            "175990\n",
            "2.22739928405023\n",
            "64830\n",
            "2.1749190189726977\n",
            "304370\n",
            "6.393534185366495\n",
            "55240\n",
            "5.485155684286749\n",
            "21007310\n",
            "4.059158454842623\n",
            "4173460\n",
            "5.053361000225233\n",
            "57560\n",
            "23.644892286309936\n",
            "20700\n",
            "3.816425120772947\n",
            "63170\n",
            "15.355390216875097\n",
            "2160\n",
            "10.185185185185185\n"
          ],
          "name": "stdout"
        }
      ]
    },
    {
      "cell_type": "markdown",
      "metadata": {
        "collapsed": true,
        "id": "wLrzbFCvOuso"
      },
      "source": [
        "## Mapping the data\n",
        "\n",
        "Let's put these countries on the map! We're going to plot each country on a map of your region, which means we need to create lists of the latitude and longitudes. To represent the risk each country faces from sea level rise, let's create three sets of lists:\n",
        "- Low risk (% pop in storm surge area <=5)\n",
        "- Medium risk (% pop in storm surge area >5 and <10)\n",
        "- Low risk (% pop in storm surge area >=10)"
      ]
    },
    {
      "cell_type": "markdown",
      "metadata": {
        "id": "4vPiP9BeOuso"
      },
      "source": [
        "Write code below that creates fills in 6 lists: lat_low, lon_low, lat_med, lon_med, lat_high, lon_high:"
      ]
    },
    {
      "cell_type": "code",
      "metadata": {
        "id": "s8AdV_mnOusp"
      },
      "source": [],
      "execution_count": null,
      "outputs": []
    },
    {
      "cell_type": "markdown",
      "metadata": {
        "id": "vESV-7c7Ousp"
      },
      "source": [
        "Print out your lat and lon lists to check that they contain the right values:"
      ]
    },
    {
      "cell_type": "code",
      "metadata": {
        "id": "mBZnHaLkOusp"
      },
      "source": [],
      "execution_count": null,
      "outputs": []
    },
    {
      "cell_type": "markdown",
      "metadata": {
        "id": "K0rdhtlZOusp"
      },
      "source": [
        "We will reuse code from the Earthquakes final project here. \n",
        "\n",
        "Remember to replace the coordinates in plt.xlim and plt.ylim functions below as follows:\n",
        "- Africa: x = (-25,50), y = (-40,45)\n",
        "- Asia: x = (30,150), y = (5,55)\n",
        "- Europe: x = (-10,30), y = (35,70)\n",
        "- Latin & South America: x = (-90,-35), y = (-55,35)\n",
        "- Oceania: x = (-180,180), y = (-60,85)\n",
        "\n",
        "You will also have to create your own plt.scatter() plots. You will need to use the plt.scatter() function three times: once for each set of lists you created above. "
      ]
    },
    {
      "cell_type": "code",
      "metadata": {
        "id": "2WFjz7Z2Ousp"
      },
      "source": [
        "# This code adds an image behind your plot\n",
        "image = plt.imread(\"earth.jpg\")\n",
        "fig, ax = plt.subplots()\n",
        "ax.imshow(image, extent = [-180,180,-90,90])\n",
        "\n",
        "# This code crops the image to show only your region. \n",
        "# IMPORTANT: Replace the coordinates in plt.xlim and plt.ylim functions\n",
        "# To match your region using the key above\n",
        "plt.xlim(0,0)\n",
        "plt.ylim(0,0)\n",
        "\n",
        "# Create three scatter plots using plt.scatter(). \n",
        "# You can change the size, shape, and color of your markers! \n",
        "# example: plt.scatter(lon_low, lat_low, s = 35, marker = \"o\", c = \"yellow\", edgecolors=\"black\")\n",
        "\n",
        "# don't forget plt.show()!\n",
        "plt.show()"
      ],
      "execution_count": null,
      "outputs": []
    }
  ]
}