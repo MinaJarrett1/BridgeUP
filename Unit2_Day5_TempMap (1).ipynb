{
  "nbformat": 4,
  "nbformat_minor": 0,
  "metadata": {
    "kernelspec": {
      "display_name": "Python 3",
      "language": "python",
      "name": "python3"
    },
    "language_info": {
      "codemirror_mode": {
        "name": "ipython",
        "version": 3
      },
      "file_extension": ".py",
      "mimetype": "text/x-python",
      "name": "python",
      "nbconvert_exporter": "python",
      "pygments_lexer": "ipython3",
      "version": "3.8.3"
    },
    "colab": {
      "provenance": []
    }
  },
  "cells": [
    {
      "cell_type": "markdown",
      "metadata": {
        "id": "ecWkvF3Cc2W5"
      },
      "source": [
        "# Creating a Sea Temperature Color Map\n",
        "\n",
        "In this notebook you'll learn how to adapt existing code to fit your particular data set. You won't need to use all of these functions again, but you should understand how they work.\n",
        "\n",
        "**Reminder: To run the code in a Jupyter Notebook cell, click inside the cell and press \"shift\" and \"return\" on your keyboard at the same time.**"
      ]
    },
    {
      "cell_type": "markdown",
      "metadata": {
        "id": "ctzfP0_mc2W6"
      },
      "source": [
        "Let's start out by importing all the libraries we'll need:"
      ]
    },
    {
      "cell_type": "code",
      "metadata": {
        "id": "TojlWOj8c2W7"
      },
      "source": [
        "import matplotlib.pyplot as plt\n",
        "import numpy as np\n",
        "import csv # This is a library that allows us to work with CSV files even if we're not using pandas"
      ],
      "execution_count": null,
      "outputs": []
    },
    {
      "cell_type": "markdown",
      "metadata": {
        "id": "Igq-FUY3c2W7"
      },
      "source": [
        "This code opens the data file, create a CSV reader object to read the data, and converts it into a list or lists using the built in Python list() function."
      ]
    },
    {
      "cell_type": "code",
      "metadata": {
        "id": "R-XHk6Whc2W8"
      },
      "source": [
        "csvFile = open(\"/content/drive/MyDrive/SeaTemp12_2002 (2).csv\", 'r') #'r' means we want to read\n",
        "csvReader = csv.reader(csvFile, delimiter=',')\n",
        "data_lists = list(csvReader)"
      ],
      "execution_count": null,
      "outputs": []
    },
    {
      "cell_type": "code",
      "metadata": {
        "id": "jFDKU_pSdpUQ"
      },
      "source": [],
      "execution_count": null,
      "outputs": []
    },
    {
      "cell_type": "code",
      "metadata": {
        "colab": {
          "base_uri": "https://localhost:8080/"
        },
        "id": "pZz25pZjeysU",
        "outputId": "f2f82371-7245-4b86-c71f-58b6d459ef44"
      },
      "source": [
        "from google.colab import drive\n",
        "drive.mount('/content/drive')"
      ],
      "execution_count": null,
      "outputs": [
        {
          "output_type": "stream",
          "text": [
            "Mounted at /content/drive\n"
          ],
          "name": "stdout"
        }
      ]
    },
    {
      "cell_type": "markdown",
      "metadata": {
        "id": "9Vk93ISnc2W8"
      },
      "source": [
        "Let's take a look at the first item in data_lists:"
      ]
    },
    {
      "cell_type": "code",
      "metadata": {
        "id": "OYrIAGJhc2W8",
        "colab": {
          "base_uri": "https://localhost:8080/"
        },
        "outputId": "9997018d-4e1d-406d-f9e1-3a66b02bd36f"
      },
      "source": [
        "print(data_lists[0])"
      ],
      "execution_count": null,
      "outputs": [
        {
          "output_type": "stream",
          "text": [
            "['99999', '99999', '99999', '99999', '99999', '99999', '99999', '99999', '99999', '99999', '99999', '99999', '99999', '99999', '99999', '99999', '99999', '99999', '99999', '99999', '99999', '99999', '99999', '99999', '99999', '99999', '99999', '99999', '99999', '99999', '99999', '99999', '99999', '99999', '99999', '99999', '99999', '99999', '99999', '99999', '99999', '99999', '99999', '99999', '99999', '99999', '99999', '99999', '99999', '99999', '99999', '99999', '99999', '99999', '99999', '99999', '99999', '99999', '99999', '99999', '99999', '99999', '99999', '99999', '99999', '99999', '99999', '99999', '99999', '99999', '99999', '99999', '99999', '99999', '99999', '99999', '99999', '99999', '99999', '99999', '99999', '99999', '99999', '99999', '99999', '99999', '99999', '99999', '99999', '99999', '99999', '99999', '99999', '99999', '99999', '99999', '99999', '99999', '99999', '99999', '99999', '99999', '99999', '99999', '99999', '99999', '99999', '99999', '99999', '99999', '99999', '99999', '99999', '99999', '99999', '99999', '99999', '99999', '99999', '99999', '99999', '99999', '99999', '99999', '99999', '99999', '99999', '99999', '99999', '99999', '99999', '99999', '99999', '99999', '99999', '99999', '99999', '99999', '99999', '99999', '99999', '99999', '99999', '99999', '99999', '99999', '99999', '99999', '99999', '99999', '99999', '99999', '99999', '99999', '99999', '99999', '99999', '99999', '99999', '99999', '99999', '99999', '99999', '99999', '99999', '99999', '99999', '99999', '99999', '99999', '99999', '99999', '99999', '99999', '99999', '99999', '99999', '99999', '99999', '99999', '99999', '99999', '99999', '99999', '99999', '99999', '99999', '99999', '99999', '99999', '99999', '99999', '99999', '99999', '99999', '99999', '99999', '99999', '99999', '99999', '99999', '99999', '99999', '99999', '99999', '99999', '99999', '99999', '99999', '99999', '99999', '99999', '99999', '99999', '99999', '99999', '99999', '99999', '99999', '99999', '99999', '99999', '99999', '99999', '99999', '99999', '99999', '99999', '99999', '99999', '99999', '99999', '99999', '99999', '99999', '99999', '99999', '99999', '99999', '99999', '99999', '99999', '99999', '99999', '99999', '99999', '99999', '99999', '99999', '99999', '99999', '99999', '99999', '99999', '99999', '99999', '99999', '99999', '99999', '99999', '99999', '99999', '99999', '99999', '99999', '99999', '99999', '99999', '99999', '99999', '99999', '99999', '99999', '99999', '99999', '99999', '99999', '99999', '99999', '99999', '99999', '99999', '99999', '99999', '99999', '99999', '99999', '99999', '99999', '99999', '99999', '99999', '99999', '99999', '99999', '99999', '99999', '99999', '99999', '99999', '99999', '99999', '99999', '99999', '99999', '99999', '99999', '99999', '99999', '99999', '99999', '99999', '99999', '99999', '99999', '99999', '99999', '99999', '99999', '99999', '99999', '99999', '99999', '99999', '99999', '99999', '99999', '99999', '99999', '99999', '99999', '99999', '99999', '99999', '99999', '99999', '99999', '99999', '99999', '99999', '99999', '99999', '99999', '99999', '99999', '99999', '99999', '99999', '99999', '99999', '99999', '99999', '99999', '99999', '99999', '99999', '99999', '99999', '99999', '99999', '99999', '99999', '99999', '99999', '99999', '99999', '99999', '99999', '99999', '99999', '99999', '99999', '99999', '99999', '99999', '99999', '99999', '99999', '99999', '99999', '99999', '99999', '99999', '99999', '99999', '99999', '99999', '99999', '99999', '99999', '99999', '99999', '99999', '99999', '99999', '99999', '99999', '99999', '99999', '99999', '99999', '99999', '99999', '99999', '99999', '99999', '99999', '99999', '99999', '99999', '99999', '99999', '99999', '99999', '99999', '99999', '99999', '99999', '99999', '99999', '99999', '99999', '99999', '99999', '99999', '99999', '99999', '99999', '99999', '99999', '99999', '99999', '99999', '99999', '99999', '99999', '99999', '99999', '99999', '99999', '99999', '99999', '99999', '99999', '99999', '99999', '99999', '99999', '99999', '99999', '99999', '99999', '99999', '99999', '99999', '99999', '99999', '99999', '99999', '99999', '99999', '99999', '99999', '99999', '99999', '99999', '99999', '99999', '99999', '99999', '99999', '99999', '99999', '99999', '99999', '99999', '99999', '99999', '99999', '99999', '99999', '99999', '99999', '99999', '99999', '99999', '99999', '99999', '99999', '99999', '99999', '99999', '99999', '99999', '99999', '99999', '99999', '99999', '99999', '99999', '99999', '99999', '99999', '99999', '99999', '99999', '99999', '99999', '99999', '99999', '99999', '99999', '99999', '99999', '99999', '99999', '99999', '99999', '99999', '99999', '99999', '99999', '99999', '99999', '99999', '99999', '99999', '99999', '99999', '99999', '99999', '99999', '99999', '99999', '99999', '99999', '99999', '99999', '99999', '99999', '99999', '99999', '99999', '99999', '99999', '99999', '99999', '99999', '99999', '99999', '99999', '99999', '99999', '99999', '99999', '99999', '99999', '99999', '99999', '99999', '99999', '99999', '99999', '99999', '99999', '99999', '99999', '99999', '99999', '99999', '99999', '99999', '99999', '99999', '99999', '99999', '99999', '99999', '99999', '99999', '99999', '99999', '99999', '99999', '99999', '99999', '99999', '99999', '99999', '99999', '99999', '99999', '99999', '99999', '99999', '99999', '99999', '99999', '99999', '99999', '99999', '99999', '99999', '99999', '99999', '99999', '99999', '99999', '99999', '99999', '99999', '99999', '99999', '99999', '99999', '99999', '99999', '99999', '99999', '99999', '99999', '99999', '99999', '99999', '99999', '99999', '99999', '99999', '99999', '99999', '99999', '99999', '99999', '99999', '99999', '99999', '99999', '99999', '99999', '99999', '99999', '99999', '99999', '99999', '99999', '99999', '99999', '99999', '99999', '99999', '99999', '99999', '99999', '99999', '99999', '99999', '99999', '99999', '99999', '99999', '99999', '99999', '99999', '99999', '99999', '99999', '99999', '99999', '99999', '99999', '99999', '99999', '99999', '99999', '99999', '99999', '99999', '99999', '99999', '99999', '99999', '99999', '99999', '99999', '99999', '99999', '99999', '99999', '99999', '99999', '99999', '99999', '99999', '99999', '99999', '99999', '99999', '99999', '99999', '99999', '99999', '99999', '99999', '99999', '99999', '99999', '99999', '99999', '99999', '99999', '99999', '99999', '99999', '99999', '99999', '99999', '99999', '99999', '99999', '99999']\n"
          ],
          "name": "stdout"
        }
      ]
    },
    {
      "cell_type": "markdown",
      "metadata": {
        "id": "7F-e4nMkc2W9"
      },
      "source": [
        "That was a lot of data! Let's use the len() function to find out how many data points there were in **just one row**:"
      ]
    },
    {
      "cell_type": "code",
      "metadata": {
        "id": "KEtb120hc2W9",
        "colab": {
          "base_uri": "https://localhost:8080/"
        },
        "outputId": "5560f0a2-7515-4f0a-fd7d-028a25100526"
      },
      "source": [
        "print(len(data_lists[0]))"
      ],
      "execution_count": null,
      "outputs": [
        {
          "output_type": "stream",
          "text": [
            "720\n"
          ],
          "name": "stdout"
        }
      ]
    },
    {
      "cell_type": "markdown",
      "metadata": {
        "id": "2ezU24rOc2W9"
      },
      "source": [
        "Let's find out how many of those there are! Use the len() function:"
      ]
    },
    {
      "cell_type": "code",
      "metadata": {
        "id": "PL4WkgwVc2W9",
        "colab": {
          "base_uri": "https://localhost:8080/"
        },
        "outputId": "2995f00f-0107-4dec-f1df-52ed7618d0bc"
      },
      "source": [
        "print (len(data_lists))"
      ],
      "execution_count": null,
      "outputs": [
        {
          "output_type": "stream",
          "text": [
            "360\n"
          ],
          "name": "stdout"
        }
      ]
    },
    {
      "cell_type": "markdown",
      "metadata": {
        "id": "cd66_Wj6c2W9"
      },
      "source": [
        "The number of items in one row is also the width of the image we are creating. The number of rows is the height. Let's assign these values to variable so we can use them later:"
      ]
    },
    {
      "cell_type": "code",
      "metadata": {
        "id": "IyaG9zHvc2W9"
      },
      "source": [
        "width = (len(data_lists[0]))\n",
        "height = (len(data_lists))"
      ],
      "execution_count": null,
      "outputs": []
    },
    {
      "cell_type": "code",
      "metadata": {
        "id": "wHVUoy_Lt5Xp"
      },
      "source": [],
      "execution_count": null,
      "outputs": []
    },
    {
      "cell_type": "markdown",
      "metadata": {
        "id": "4PWqbW38c2W9"
      },
      "source": [
        "Now we're going to use a new numpy function that creates an empty matrix. A matrix is like a grid made up of lists."
      ]
    },
    {
      "cell_type": "code",
      "metadata": {
        "collapsed": true,
        "id": "yhDCP_OIc2W9"
      },
      "source": [
        "grid = np.empty([height, width, 3], dtype=np.uint8) \n",
        "# We have to specify the height and width of the matrix along with the number of items \n",
        "# we can put in each spot on the grid. We want 3 because each color value has 3 numbers.\n",
        "# Finally, we specify the type of data we will put into the matrix."
      ],
      "execution_count": null,
      "outputs": []
    },
    {
      "cell_type": "markdown",
      "metadata": {
        "id": "7z0ZS_Y4c2W9"
      },
      "source": [
        "Now we're going to use some code you're used to: \"for loops\" and conditionals! But we are making things a little more complicated using the enumerate() function. Using enumerate(), you keep track of both the index and the value in a \"for loop\"."
      ]
    },
    {
      "cell_type": "code",
      "metadata": {
        "id": "A2zGUCRqc2W9"
      },
      "source": [
        "all_values = [] # We will fill in this empty list with all the data values as we go\n",
        "\n",
        "for r, row in enumerate(data_lists):\n",
        "    for c, value in enumerate(row):\n",
        "        if float(value) < 99999:\n",
        "            all_values.append(float(value)) # This is where we fill in the list with all data values\n",
        "        if float(value) <= -10:\n",
        "            grid[r, c] = [227, 51, 16]\n",
        "        elif float(value) <= -5:\n",
        "            grid[r, c] = [242, 255, 10]\n",
        "        elif float(value) <= 0:\n",
        "            grid[r, c] = [247, 255, 10]\n",
        "        elif float(value) <= 2:\n",
        "            grid[r, c] = [88, 173, 91]\n",
        "        elif float(value) <= 5:\n",
        "            grid[r, c] = [23, 34, 232]\n",
        "        elif float(value) <= 10:\n",
        "            grid[r, c] = [41, 14, 158]\n",
        "        else:\n",
        "            grid[r, c] = [153, 84, 232]"
      ],
      "execution_count": null,
      "outputs": []
    },
    {
      "cell_type": "markdown",
      "metadata": {
        "id": "MIfyZk43c2W9"
      },
      "source": [
        "Now that we have all of our data in a single list, we can find the max and the min:\n",
        "Hint: Use this information to help you adjust your conditionals!"
      ]
    },
    {
      "cell_type": "code",
      "metadata": {
        "id": "HAs16PzUc2W9",
        "colab": {
          "base_uri": "https://localhost:8080/"
        },
        "outputId": "581da70c-57bd-4cc1-fa97-509e4ee5d883"
      },
      "source": [
        "print(min(all_values))\n",
        "print(max(all_values))"
      ],
      "execution_count": null,
      "outputs": [
        {
          "output_type": "stream",
          "text": [
            "-2.0\n",
            "35.0\n"
          ],
          "name": "stdout"
        }
      ]
    },
    {
      "cell_type": "markdown",
      "metadata": {
        "id": "qjtPq0QEc2W9"
      },
      "source": [
        "Now it's time to use matplotlib to show our image! We already imported the library, so we can get right to it:"
      ]
    },
    {
      "cell_type": "code",
      "metadata": {
        "id": "U8oIJ7Unc2W9",
        "colab": {
          "base_uri": "https://localhost:8080/",
          "height": 214
        },
        "outputId": "4318d881-f7af-46de-8ad0-9dfbeca13fc4"
      },
      "source": [
        "plt.title(\"Global sea temperature in Celsius\")\n",
        "plt.imshow(grid)\n",
        "plt.axis('off')\n",
        "plt.savefig(\"Land_temperature.png\",dpi = 1000)\n",
        "plt.show()"
      ],
      "execution_count": null,
      "outputs": [
        {
          "output_type": "display_data",
          "data": {
            "image/png": "[encoded data removed]",
            "text/plain": [
              "<Figure size 432x288 with 1 Axes>"
            ]
          },
          "metadata": {
            "tags": [],
            "needs_background": "light"
          }
        }
      ]
    },
    {
      "cell_type": "markdown",
      "metadata": {
        "id": "y6o4JRuXc2W9"
      },
      "source": [
        "## Coding Challenge:\n",
        "Change the code so that you create a map for the sea temperature in 2016."
      ]
    },
    {
      "cell_type": "code",
      "metadata": {
        "collapsed": true,
        "id": "7nupAjFpc2W9",
        "colab": {
          "base_uri": "https://localhost:8080/",
          "height": 198
        },
        "outputId": "1b04a688-e4a1-414a-b1c4-760e2ba98b6d"
      },
      "source": [
        "csvFile = open(\"/content/drive/MyDrive/SeaTemp12_2016\", 'r') \n",
        "csvReader =  csv.reader(csvFile, delimiter=',')\n",
        "data_lists = list(csvReader)"
      ],
      "execution_count": null,
      "outputs": [
        {
          "output_type": "error",
          "ename": "FileNotFoundError",
          "evalue": "ignored",
          "traceback": [
            "\u001b[0;31m---------------------------------------------------------------------------\u001b[0m",
            "\u001b[0;31mFileNotFoundError\u001b[0m                         Traceback (most recent call last)",
            "\u001b[0;32m<ipython-input-20-1397210ef620>\u001b[0m in \u001b[0;36m<module>\u001b[0;34m()\u001b[0m\n\u001b[0;32m----> 1\u001b[0;31m \u001b[0mcsvFile\u001b[0m \u001b[0;34m=\u001b[0m \u001b[0mopen\u001b[0m\u001b[0;34m(\u001b[0m\u001b[0;34m\"/content/drive/MyDrive/SeaTemp12_2016\"\u001b[0m\u001b[0;34m,\u001b[0m \u001b[0;34m'r'\u001b[0m\u001b[0;34m)\u001b[0m\u001b[0;34m\u001b[0m\u001b[0;34m\u001b[0m\u001b[0m\n\u001b[0m\u001b[1;32m      2\u001b[0m \u001b[0mcsvReader\u001b[0m \u001b[0;34m=\u001b[0m  \u001b[0mcsv\u001b[0m\u001b[0;34m.\u001b[0m\u001b[0mreader\u001b[0m\u001b[0;34m(\u001b[0m\u001b[0mcsvFile\u001b[0m\u001b[0;34m,\u001b[0m \u001b[0mdelimiter\u001b[0m\u001b[0;34m=\u001b[0m\u001b[0;34m','\u001b[0m\u001b[0;34m)\u001b[0m\u001b[0;34m\u001b[0m\u001b[0;34m\u001b[0m\u001b[0m\n\u001b[1;32m      3\u001b[0m \u001b[0mdata_lists\u001b[0m \u001b[0;34m=\u001b[0m \u001b[0mlist\u001b[0m\u001b[0;34m(\u001b[0m\u001b[0mcsvReader\u001b[0m\u001b[0;34m)\u001b[0m\u001b[0;34m\u001b[0m\u001b[0;34m\u001b[0m\u001b[0m\n",
            "\u001b[0;31mFileNotFoundError\u001b[0m: [Errno 2] No such file or directory: '/content/drive/MyDrive/SeaTemp12_2016'"
          ]
        }
      ]
    },
    {
      "cell_type": "code",
      "metadata": {
        "colab": {
          "base_uri": "https://localhost:8080/"
        },
        "id": "AdMhRa8Frnlk",
        "outputId": "3f5c6e39-31b5-4216-a890-eac9f7a06b59"
      },
      "source": [
        "print(data_lists[0])"
      ],
      "execution_count": null,
      "outputs": [
        {
          "output_type": "stream",
          "text": [
            "['99999', '99999', '99999', '99999', '99999', '99999', '99999', '99999', '99999', '99999', '99999', '99999', '99999', '99999', '99999', '99999', '99999', '99999', '99999', '99999', '99999', '99999', '99999', '99999', '99999', '99999', '99999', '99999', '99999', '99999', '99999', '99999', '99999', '99999', '99999', '99999', '99999', '99999', '99999', '99999', '99999', '99999', '99999', '99999', '99999', '99999', '99999', '99999', '99999', '99999', '99999', '99999', '99999', '99999', '99999', '99999', '99999', '99999', '99999', '99999', '99999', '99999', '99999', '99999', '99999', '99999', '99999', '99999', '99999', '99999', '99999', '99999', '99999', '99999', '99999', '99999', '99999', '99999', '99999', '99999', '99999', '99999', '99999', '99999', '99999', '99999', '99999', '99999', '99999', '99999', '99999', '99999', '99999', '99999', '99999', '99999', '99999', '99999', '99999', '99999', '99999', '99999', '99999', '99999', '99999', '99999', '99999', '99999', '99999', '99999', '99999', '99999', '99999', '99999', '99999', '99999', '99999', '99999', '99999', '99999', '99999', '99999', '99999', '99999', '99999', '99999', '99999', '99999', '99999', '99999', '99999', '99999', '99999', '99999', '99999', '99999', '99999', '99999', '99999', '99999', '99999', '99999', '99999', '99999', '99999', '99999', '99999', '99999', '99999', '99999', '99999', '99999', '99999', '99999', '99999', '99999', '99999', '99999', '99999', '99999', '99999', '99999', '99999', '99999', '99999', '99999', '99999', '99999', '99999', '99999', '99999', '99999', '99999', '99999', '99999', '99999', '99999', '99999', '99999', '99999', '99999', '99999', '99999', '99999', '99999', '99999', '99999', '99999', '99999', '99999', '99999', '99999', '99999', '99999', '99999', '99999', '99999', '99999', '99999', '99999', '99999', '99999', '99999', '99999', '99999', '99999', '99999', '99999', '99999', '99999', '99999', '99999', '99999', '99999', '99999', '99999', '99999', '99999', '99999', '99999', '99999', '99999', '99999', '99999', '99999', '99999', '99999', '99999', '99999', '99999', '99999', '99999', '99999', '99999', '99999', '99999', '99999', '99999', '99999', '99999', '99999', '99999', '99999', '99999', '99999', '99999', '99999', '99999', '99999', '99999', '99999', '99999', '99999', '99999', '99999', '99999', '99999', '99999', '99999', '99999', '99999', '99999', '99999', '99999', '99999', '99999', '99999', '99999', '99999', '99999', '99999', '99999', '99999', '99999', '99999', '99999', '99999', '99999', '99999', '99999', '99999', '99999', '99999', '99999', '99999', '99999', '99999', '99999', '99999', '99999', '99999', '99999', '99999', '99999', '99999', '99999', '99999', '99999', '99999', '99999', '99999', '99999', '99999', '99999', '99999', '99999', '99999', '99999', '99999', '99999', '99999', '99999', '99999', '99999', '99999', '99999', '99999', '99999', '99999', '99999', '99999', '99999', '99999', '99999', '99999', '99999', '99999', '99999', '99999', '99999', '99999', '99999', '99999', '99999', '99999', '99999', '99999', '99999', '99999', '99999', '99999', '99999', '99999', '99999', '99999', '99999', '99999', '99999', '99999', '99999', '99999', '99999', '99999', '99999', '99999', '99999', '99999', '99999', '99999', '99999', '99999', '99999', '99999', '99999', '99999', '99999', '99999', '99999', '99999', '99999', '99999', '99999', '99999', '99999', '99999', '99999', '99999', '99999', '99999', '99999', '99999', '99999', '99999', '99999', '99999', '99999', '99999', '99999', '99999', '99999', '99999', '99999', '99999', '99999', '99999', '99999', '99999', '99999', '99999', '99999', '99999', '99999', '99999', '99999', '99999', '99999', '99999', '99999', '99999', '99999', '99999', '99999', '99999', '99999', '99999', '99999', '99999', '99999', '99999', '99999', '99999', '99999', '99999', '99999', '99999', '99999', '99999', '99999', '99999', '99999', '99999', '99999', '99999', '99999', '99999', '99999', '99999', '99999', '99999', '99999', '99999', '99999', '99999', '99999', '99999', '99999', '99999', '99999', '99999', '99999', '99999', '99999', '99999', '99999', '99999', '99999', '99999', '99999', '99999', '99999', '99999', '99999', '99999', '99999', '99999', '99999', '99999', '99999', '99999', '99999', '99999', '99999', '99999', '99999', '99999', '99999', '99999', '99999', '99999', '99999', '99999', '99999', '99999', '99999', '99999', '99999', '99999', '99999', '99999', '99999', '99999', '99999', '99999', '99999', '99999', '99999', '99999', '99999', '99999', '99999', '99999', '99999', '99999', '99999', '99999', '99999', '99999', '99999', '99999', '99999', '99999', '99999', '99999', '99999', '99999', '99999', '99999', '99999', '99999', '99999', '99999', '99999', '99999', '99999', '99999', '99999', '99999', '99999', '99999', '99999', '99999', '99999', '99999', '99999', '99999', '99999', '99999', '99999', '99999', '99999', '99999', '99999', '99999', '99999', '99999', '99999', '99999', '99999', '99999', '99999', '99999', '99999', '99999', '99999', '99999', '99999', '99999', '99999', '99999', '99999', '99999', '99999', '99999', '99999', '99999', '99999', '99999', '99999', '99999', '99999', '99999', '99999', '99999', '99999', '99999', '99999', '99999', '99999', '99999', '99999', '99999', '99999', '99999', '99999', '99999', '99999', '99999', '99999', '99999', '99999', '99999', '99999', '99999', '99999', '99999', '99999', '99999', '99999', '99999', '99999', '99999', '99999', '99999', '99999', '99999', '99999', '99999', '99999', '99999', '99999', '99999', '99999', '99999', '99999', '99999', '99999', '99999', '99999', '99999', '99999', '99999', '99999', '99999', '99999', '99999', '99999', '99999', '99999', '99999', '99999', '99999', '99999', '99999', '99999', '99999', '99999', '99999', '99999', '99999', '99999', '99999', '99999', '99999', '99999', '99999', '99999', '99999', '99999', '99999', '99999', '99999', '99999', '99999', '99999', '99999', '99999', '99999', '99999', '99999', '99999', '99999', '99999', '99999', '99999', '99999', '99999', '99999', '99999', '99999', '99999', '99999', '99999', '99999', '99999', '99999', '99999', '99999', '99999', '99999', '99999', '99999', '99999', '99999', '99999', '99999', '99999', '99999', '99999', '99999', '99999', '99999', '99999', '99999', '99999', '99999', '99999', '99999', '99999', '99999', '99999', '99999', '99999', '99999', '99999', '99999', '99999', '99999', '99999', '99999', '99999', '99999', '99999', '99999', '99999', '99999', '99999', '99999', '99999', '99999', '99999']\n"
          ],
          "name": "stdout"
        }
      ]
    },
    {
      "cell_type": "code",
      "metadata": {
        "colab": {
          "base_uri": "https://localhost:8080/"
        },
        "id": "cFgPx2SStqdw",
        "outputId": "21a446cd-0551-4899-9101-e39bebc80aea"
      },
      "source": [
        "print(len(data_lists[0]))"
      ],
      "execution_count": null,
      "outputs": [
        {
          "output_type": "stream",
          "text": [
            "720\n"
          ],
          "name": "stdout"
        }
      ]
    },
    {
      "cell_type": "code",
      "metadata": {
        "colab": {
          "base_uri": "https://localhost:8080/"
        },
        "id": "faioQFiVttQe",
        "outputId": "dc05e6de-b696-4e3c-d68e-b91d25b9d1b3"
      },
      "source": [
        "print (len(data_lists))"
      ],
      "execution_count": null,
      "outputs": [
        {
          "output_type": "stream",
          "text": [
            "360\n"
          ],
          "name": "stdout"
        }
      ]
    },
    {
      "cell_type": "code",
      "metadata": {
        "id": "J1La2-2It7KP"
      },
      "source": [
        "width = (len(data_lists[0]))\n",
        "height = (len(data_lists))"
      ],
      "execution_count": null,
      "outputs": []
    },
    {
      "cell_type": "code",
      "metadata": {
        "id": "AzdmD6aOt9Ab"
      },
      "source": [
        "grid = np.empty([height, width, 3], dtype=np.uint8) \n",
        "# We have to specify the height and width of the matrix along with the number of items \n",
        "# we can put in each spot on the grid. We want 3 because each color value has 3 numbers.\n",
        "# Finally, we specify the type of data we will put into the matrix."
      ],
      "execution_count": null,
      "outputs": []
    },
    {
      "cell_type": "code",
      "metadata": {
        "id": "jtoBM8DguJXm"
      },
      "source": [
        "all_values = [] # We will fill in this empty list with all the data values as we go\n",
        "\n",
        "for r, row in enumerate(data_lists):\n",
        "    for c, value in enumerate(row):\n",
        "        if float(value) < 99999:\n",
        "            all_values.append(float(value)) # This is where we fill in the list with all data values\n",
        "        if float(value) <= -10:\n",
        "            grid[r, c] = [227, 51, 16]\n",
        "        elif float(value) <= -5:\n",
        "            grid[r, c] = [242, 255, 10]\n",
        "        elif float(value) <= 0:\n",
        "            grid[r, c] = [247, 255, 10]\n",
        "        elif float(value) <= 2:\n",
        "            grid[r, c] = [88, 173, 91]\n",
        "        elif float(value) <= 5:\n",
        "            grid[r, c] = [23, 34, 232]\n",
        "        elif float(value) <= 10:\n",
        "            grid[r, c] = [41, 14, 158]\n",
        "        else:\n",
        "            grid[r, c] = [153, 84, 232]"
      ],
      "execution_count": null,
      "outputs": []
    },
    {
      "cell_type": "code",
      "metadata": {
        "colab": {
          "base_uri": "https://localhost:8080/"
        },
        "id": "F_p6EoNyuP_r",
        "outputId": "22b11848-e133-4b91-d18c-c5ace028ed03"
      },
      "source": [
        "print(min(all_values))\n",
        "print(max(all_values))"
      ],
      "execution_count": null,
      "outputs": [
        {
          "output_type": "stream",
          "text": [
            "-2.0\n",
            "35.0\n"
          ],
          "name": "stdout"
        }
      ]
    },
    {
      "cell_type": "code",
      "metadata": {
        "colab": {
          "base_uri": "https://localhost:8080/",
          "height": 214
        },
        "id": "LYRpx5bnuVIW",
        "outputId": "4354b2fe-0287-4fba-9718-26751cd3645a"
      },
      "source": [
        "plt.title(\"Global sea temperature in Celsius\")\n",
        "plt.imshow(grid)\n",
        "plt.axis('off')\n",
        "plt.savefig(\"Land_temperature.png\",dpi = 1000)\n",
        "plt.show()"
      ],
      "execution_count": null,
      "outputs": [
        {
          "output_type": "display_data",
          "data": {
            "image/png": "[encoded data removed]",
            "text/plain": [
              "<Figure size 432x288 with 1 Axes>"
            ]
          },
          "metadata": {
            "tags": [],
            "needs_background": "light"
          }
        }
      ]
    }
  ]
}