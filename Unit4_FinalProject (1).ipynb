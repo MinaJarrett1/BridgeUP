{
  "nbformat": 4,
  "nbformat_minor": 0,
  "metadata": {
    "kernelspec": {
      "display_name": "Python 3",
      "language": "python",
      "name": "python3"
    },
    "language_info": {
      "codemirror_mode": {
        "name": "ipython",
        "version": 3
      },
      "file_extension": ".py",
      "mimetype": "text/x-python",
      "name": "python",
      "nbconvert_exporter": "python",
      "pygments_lexer": "ipython3",
      "version": "3.8.3"
    },
    "colab": {
      "provenance": []
    }
  },
  "cells": [
    {
      "cell_type": "markdown",
      "metadata": {
        "id": "bp9qBiWW0Ppm"
      },
      "source": [
        "# Unit 4 Final Projects: Calculating evolutionary distance\n",
        "\n",
        "In this notebook you will compare the sequence of a particular gene from 3 different species to find out which two are most closely related. \n",
        "\n",
        "You will need to do the following:\n",
        "1. Open and read in your files\n",
        "2. Decide which sequences to compare (DNA, RNA, or protein), (you may have to look at all of them)\n",
        "3. Write code that prints out the percent similarity of each pair of sequences\n",
        "\n",
        " "
      ]
    },
    {
      "cell_type": "code",
      "metadata": {
        "id": "6KiuX-xQ0Pps"
      },
      "source": [
        "animal1 = open('/content/sample_data/1a_CSN2_DNA.txt').read()\n",
        "animal2 = open('/content/sample_data/1b_CSN2_DNA.txt').read()\n",
        "animal3 = open('/content/sample_data/1c_CSN2_DNA.txt').read()\n",
        "genes1 = len(animal1)\n",
        "genes2 = len(animal2)\n",
        "genes3 = len(animal3)\n",
        "new_animal1 = []\n",
        "new_animal2 = []\n",
        "new_animal3 = []\n",
        "for char in animal1:\n",
        "  new_animal1.append(char)\n",
        "for char in animal2:\n",
        "  new_animal2.append(char)\n",
        "for char in animal3:\n",
        "  new_animal3.append(char)\n",
        "diff12 = 0\n",
        "for n in new_animal1:\n",
        "  m = new_animal1.index(y)\n",
        "  if bool(n != new_animal2[m]) == True:\n",
        "    diff12 += 1\n",
        "diff13 = 0\n",
        "for a in new_animal1:\n",
        "  b = new_animal1.index(y)\n",
        "  if bool(a != new_animal3[b]) == True:\n",
        "    diff13 += 1\n",
        "diff23 = 0\n",
        "for s in new_animal2:\n",
        "  z = new_animal2.index(y)\n",
        "  if bool(s != new_animal3[z]) == True:\n",
        "    diff23 += 1\n",
        "perc12 = (genes1 - diff12) / genes2 * 100\n",
        "perc13 = (genes1 - diff13) / genes1 * 100\n",
        "perc23 = (genes2 - diff23) / genes2 * 100\n",
        "if perc12 > perc13 and perc12 > perc23:\n",
        "  print(\"Sample A and Sample B are the most similar.\")\n",
        "if perc13 > perc12 and perc13 > perc23:\n",
        "  print(\"Sample A and Sample C are the most similar.\")\n",
        "if perc23 > perc12 and perc23 > perc13:\n",
        "  print(\"Sample B and Sample C are the most similar.\")\n"
      ],
      "execution_count": null,
      "outputs": []
    },
    {
      "cell_type": "code",
      "metadata": {
        "collapsed": true,
        "id": "f3LqYwBT0Ppv"
      },
      "source": [],
      "execution_count": null,
      "outputs": []
    },
    {
      "cell_type": "code",
      "metadata": {
        "collapsed": true,
        "id": "wWnQuA1U0Ppw"
      },
      "source": [],
      "execution_count": null,
      "outputs": []
    },
    {
      "cell_type": "code",
      "metadata": {
        "collapsed": true,
        "id": "eOzonyyK0Pp0"
      },
      "source": [],
      "execution_count": null,
      "outputs": []
    },
    {
      "cell_type": "code",
      "metadata": {
        "id": "Bw8ss-EH0Pp1"
      },
      "source": [],
      "execution_count": null,
      "outputs": []
    },
    {
      "cell_type": "markdown",
      "metadata": {
        "id": "hzpzjcD90Pp2"
      },
      "source": [
        "## Bonus Challenge\n",
        "\n",
        "Visualize your results! Choose a graph type that you think will communicate your conclusions effectively and create it using matplotlib:"
      ]
    },
    {
      "cell_type": "code",
      "metadata": {
        "id": "GDxVBUHm0Pp2"
      },
      "source": [],
      "execution_count": null,
      "outputs": []
    },
    {
      "cell_type": "markdown",
      "metadata": {
        "id": "6XnDeu5r0Pp3"
      },
      "source": [
        "## Bonus Challenge 2\n",
        "If you finish your project and want to try a challenge, come up with a hypothesis about which of the following species are most closely related to humans (carp, chicken, chimp, dog, eel, elephant, frog, gorilla, macaque monkey, mouse, orangutan, pig). Write out a ranked list with the species you think is most related to humans at the top.\n",
        "\n",
        "Then calculate the percent difference between the hemoglobin amino acid sequences of humans and each species to find out how close you came to the right ranking!\n",
        "\n",
        "You can use this site to find the sequences: https://www.uniprot.org/ and BLAST the search results."
      ]
    },
    {
      "cell_type": "code",
      "metadata": {
        "collapsed": true,
        "id": "g4WbGand0Pp4"
      },
      "source": [],
      "execution_count": null,
      "outputs": []
    }
  ]
}