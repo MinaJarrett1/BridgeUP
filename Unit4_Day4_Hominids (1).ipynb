{
  "nbformat": 4,
  "nbformat_minor": 0,
  "metadata": {
    "kernelspec": {
      "display_name": "Python 3",
      "language": "python",
      "name": "python3"
    },
    "language_info": {
      "codemirror_mode": {
        "name": "ipython",
        "version": 3
      },
      "file_extension": ".py",
      "mimetype": "text/x-python",
      "name": "python",
      "nbconvert_exporter": "python",
      "pygments_lexer": "ipython3",
      "version": "3.6.8"
    },
    "colab": {
      "provenance": []
    }
  },
  "cells": [
    {
      "cell_type": "markdown",
      "metadata": {
        "id": "SNmbrEi84ecq"
      },
      "source": [
        "# Exploring the hominid timeline\n",
        "\n",
        "In this notebook you'll get to practice creating and using dictionaries while discovering which hominin species lived at the same time."
      ]
    },
    {
      "cell_type": "markdown",
      "metadata": {
        "id": "XmF2MvaN4edB"
      },
      "source": [
        "Here is a list of hominid species and the time range when they are beleived to have lived (in millions of years ago):\n",
        "- A. anamensis (4.2 to 3.9 mya)\n",
        "- A. afarensis (3.6 to 2.9 mya)\n",
        "- K. platyops (3.5 to 3.3 mya)\n",
        "- A. africanus (3 to 2 mya)\n",
        "- A. aethiopicus (2.7 to 2.3 mya)\n",
        "- A. boisei (2.3 to 1.4 mya)\n",
        "- H. habilis (2.3 to 1.6 mya)\n",
        "- H. erectus (1.8 to 0.3 mya)\n",
        "- A. robustus (1.8 to 1.5 mya)\n",
        "- H. heidelbergensis (0.6 to 0.1 mya)\n",
        "- H. neanderthalensis (0.25 to 0.03 mya)\n",
        "- H. sapiens (0.1 to 0 mya)\n",
        "\n",
        "Create a dictionary with species as keys and lists containing the beginning and end of the range as the values:\n",
        "\n",
        "*Note: If your dictionary gets too long to fit on one line, you can hit the \"return\" key after a comma to make a new line*"
      ]
    },
    {
      "cell_type": "code",
      "metadata": {
        "id": "96I7M7J34edK"
      },
      "source": [
        "hominid_timeline = {\n",
        "    \"A. anamensis\" : [4.2,3.9], \"A. afarensis\" : [3.6,2.9], \"K. platyops\": [3.5,3.3], \n",
        "    \"A.africanus\" : [3,2], \"A.aethiopicus\" : [2.7,2.3], \"A.boisei\" : [2.3,1.4], \"H.habilis\" : [2.3,1.6], \n",
        "    \"H.erectus\" : [1.8,0.3], \"A.robustus\" : [1.8,1.5], \"H.heidelbergensis\" : [0.6,0.1], \"H.neanderthalensis\" : [0.25,0.03],\n",
        "    \"H.sapiens\" : [0.1,0]\n",
        "}"
      ],
      "execution_count": null,
      "outputs": []
    },
    {
      "cell_type": "markdown",
      "metadata": {
        "id": "pS-XLDX24edQ"
      },
      "source": [
        "Test out your dictionary by printing out the time range when A. boisei lived:"
      ]
    },
    {
      "cell_type": "code",
      "metadata": {
        "colab": {
          "base_uri": "https://localhost:8080/"
        },
        "id": "IUq_DlJO4edR",
        "outputId": "3be63dee-d2ea-422e-89f4-50190ba9e6de"
      },
      "source": [
        "hominid_timeline[\"A.boisei\"]"
      ],
      "execution_count": null,
      "outputs": [
        {
          "output_type": "execute_result",
          "data": {
            "text/plain": [
              "[2.3, 1.4]"
            ]
          },
          "metadata": {
            "tags": []
          },
          "execution_count": 13
        }
      ]
    },
    {
      "cell_type": "markdown",
      "metadata": {
        "id": "ziXzcG604edV"
      },
      "source": [
        "Now write code that sets a variable equal to a certain number of millions of years ago and prints out a **list** of all the hominid species that lived at that time:\n",
        "\n",
        "Hints: \n",
        "- You will need to create a new list\n",
        "- You will need to use a list index after a dictionary index\n",
        "- Remember that the time ranges go from more mya to fewer mya"
      ]
    },
    {
      "cell_type": "code",
      "metadata": {
        "colab": {
          "base_uri": "https://localhost:8080/"
        },
        "id": "klpHnxOS4edW",
        "outputId": "df90dd72-9901-49b3-8661-84288f51dd0f"
      },
      "source": [
        "mya = 2.3 \n",
        "hominids = []\n",
        "\n",
        "for hominid in hominid_timeline : \n",
        "    if mya <= hominid_timeline[hominid][0] and mya >= hominid_timeline[hominid][1]:\n",
        "     hominids.append(hominid)\n",
        "\n",
        "print(hominids)"
      ],
      "execution_count": null,
      "outputs": [
        {
          "output_type": "stream",
          "text": [
            "['A.africanus', 'A.aethiopicus', 'A.boisei', 'H.habilis']\n"
          ],
          "name": "stdout"
        }
      ]
    },
    {
      "cell_type": "markdown",
      "metadata": {
        "id": "1EILTkTW4edZ"
      },
      "source": [
        "Try re-running your code for the following numbers of millions of years:\n",
        "- 3 mya\n",
        "- 1.5 mya\n",
        "- 0.1 mya (100 years ago)"
      ]
    },
    {
      "cell_type": "code",
      "metadata": {
        "colab": {
          "base_uri": "https://localhost:8080/"
        },
        "id": "8k6WxxHo8Ncj",
        "outputId": "bd2123ba-5bf4-46b2-fbe6-3a1c891d8c4c"
      },
      "source": [
        "mya = 3 \n",
        "hominids = []\n",
        "\n",
        "for hominid in hominid_timeline : \n",
        "    if mya <= hominid_timeline[hominid][0] and mya >= hominid_timeline[hominid][1]:\n",
        "     hominids.append(hominid)\n",
        "\n",
        "print(hominids)"
      ],
      "execution_count": null,
      "outputs": [
        {
          "output_type": "stream",
          "text": [
            "['A. afarensis', 'A.africanus']\n"
          ],
          "name": "stdout"
        }
      ]
    },
    {
      "cell_type": "code",
      "metadata": {
        "colab": {
          "base_uri": "https://localhost:8080/"
        },
        "id": "AYA14W-NAKC1",
        "outputId": "a9783b60-0bd2-4233-ad88-77fb21207bbb"
      },
      "source": [
        "mya = 1.5 \n",
        "hominids = []\n",
        "\n",
        "for hominid in hominid_timeline : \n",
        "    if mya <= hominid_timeline[hominid][0] and mya >= hominid_timeline[hominid][1]:\n",
        "     hominids.append(hominid)\n",
        "\n",
        "print(hominids)"
      ],
      "execution_count": null,
      "outputs": [
        {
          "output_type": "stream",
          "text": [
            "['A.boisei', 'H.erectus', 'A.robustus']\n"
          ],
          "name": "stdout"
        }
      ]
    },
    {
      "cell_type": "code",
      "metadata": {
        "colab": {
          "base_uri": "https://localhost:8080/"
        },
        "id": "cLsyza1WAM7c",
        "outputId": "091b5d11-a94d-4a74-c0d9-fe069045489f"
      },
      "source": [
        "mya = 0.1\n",
        "hominids = []\n",
        "\n",
        "for hominid in hominid_timeline : \n",
        "    if mya <= hominid_timeline[hominid][0] and mya >= hominid_timeline[hominid][1]:\n",
        "     hominids.append(hominid)\n",
        "\n",
        "print(hominids)"
      ],
      "execution_count": null,
      "outputs": [
        {
          "output_type": "stream",
          "text": [
            "['H.heidelbergensis', 'H.neanderthalensis', 'H.sapiens']\n"
          ],
          "name": "stdout"
        }
      ]
    },
    {
      "cell_type": "markdown",
      "metadata": {
        "id": "akJtGohx8Hhg"
      },
      "source": [
        "\n",
        "\n",
        "```\n",
        "# This is formatted as code\n",
        "```\n",
        "\n"
      ]
    }
  ]
}