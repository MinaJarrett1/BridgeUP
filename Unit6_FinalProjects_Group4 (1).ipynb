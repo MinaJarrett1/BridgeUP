{
  "nbformat": 4,
  "nbformat_minor": 0,
  "metadata": {
    "kernelspec": {
      "display_name": "Python 3",
      "language": "python",
      "name": "python3"
    },
    "language_info": {
      "codemirror_mode": {
        "name": "ipython",
        "version": 3
      },
      "file_extension": ".py",
      "mimetype": "text/x-python",
      "name": "python",
      "nbconvert_exporter": "python",
      "pygments_lexer": "ipython3",
      "version": "3.8.3"
    },
    "colab": {
      "provenance": []
    }
  },
  "cells": [
    {
      "cell_type": "markdown",
      "metadata": {
        "id": "RssECmRLTySO"
      },
      "source": [
        "# Analyzing COVID-19 in the United States and Its Impact"
      ]
    },
    {
      "cell_type": "markdown",
      "metadata": {
        "id": "rN3X6JJvTySV"
      },
      "source": [
        "Throughout the final unit we have explored COVID-19 and its spread throughout the world. \n",
        "\n",
        "The visualizations in this notebook will focus on and explore its impact on the United States."
      ]
    },
    {
      "cell_type": "code",
      "metadata": {
        "id": "Bq6d0kxATySX"
      },
      "source": [
        "#Import all libraries you may need in this cell:\n",
        "import matplotlib as plt\n",
        "import pandas as pd"
      ],
      "execution_count": null,
      "outputs": []
    },
    {
      "cell_type": "markdown",
      "metadata": {
        "id": "BkNuJChlTySe"
      },
      "source": [
        "## 1 - Finding the COVID-19 numbers per state."
      ]
    },
    {
      "cell_type": "code",
      "metadata": {
        "id": "n2jacllfTySf"
      },
      "source": [
        "#3 lists of data compiled for your convenience\n",
        "\n",
        "#List of states sorted in alphabetical order.\n",
        "statesList = [\"Alabama\",\"Alaska\",\"Arizona\",\"Arkansas\",\"California\",\"Colorado\",\n",
        "  \"Connecticut\",\"Delaware\",\"Florida\",\"Georgia\",\"Hawaii\",\"Idaho\",\"Illinois\",\n",
        "  \"Indiana\",\"Iowa\",\"Kansas\",\"Kentucky\",\"Louisiana\",\"Maine\",\"Maryland\",\n",
        "  \"Massachusetts\",\"Michigan\",\"Minnesota\",\"Mississippi\",\"Missouri\",\"Montana\",\n",
        "  \"Nebraska\",\"Nevada\",\"New Hampshire\",\"New Jersey\",\"New Mexico\",\"New York\",\n",
        "  \"North Carolina\",\"North Dakota\",\"Ohio\",\"Oklahoma\",\"Oregon\",\"Pennsylvania\",\n",
        "  \"Rhode Island\",\"South Carolina\",\"South Dakota\",\"Tennessee\",\"Texas\",\"Utah\",\n",
        "  \"Vermont\",\"Virginia\",\"Washington\",\"West Virginia\",\"Wisconsin\",\"Wyoming\"]\n",
        "\n",
        "#Corresponding abbreviations for each state.\n",
        "stateAbbreviationList = [\"AL\",\"AK\",\"AZ\",\"AR\",\"CA\",\"CO\",\"CT\",\"DE\",\"FL\",\"GA\",\"HI\",\"ID\",\"IL\",\"IN\",\"IA\",\"KS\",\"KY\",\"LA\",\"ME\",\"MD\",\"MA\",\"MI\",\"MN\",\"MS\",\"MO\",\"MT\",\"NE\",\"NV\",\"NH\",\"NJ\",\"NM\",\"NY\",\"NC\",\"ND\",\n",
        "\"OH\",\"OK\",\"OR\",\"PA\",\"RI\",\"SC\",\"SD\",\"TN\",\"TX\",\"UT\",\"VT\",\"VA\",\"WA\",\"WV\",\"WI\",\"WY\"]\n",
        "\n",
        "#Corresponding latitudes for each state.\n",
        "latitudes = [32.361538, 58.301935, 33.448457, 34.736009, 38.555605, 39.7391667, 41.767, 39.161921, 30.4518, 33.76,\n",
        "            21.30895, 43.613739, 39.783250, 39.790942, 41.590939, 39.04, 38.197274, 30.45809, 44.323535, 38.972945,\n",
        "            42.2352, 42.7335, 44.95,32.320, 38.572954,46.595805,40.809868,39.160949,43.220093, 40.221741,35.667231,\n",
        "            42.659829,35.771, 48.813343,39.962245, 35.482309,44.931109, 40.269789, 41.82355, 34.000,  44.367966,36.165,\n",
        "            30.266667,40.7547,44.26639, 37.54, 47.042418,38.349497,43.074722, 41.145548]\n",
        "\n",
        "#Corresponding longitudes for each state.\n",
        "longitudes = [-86.279118,-134.419740,-112.073844, -92.331122,-121.468926 ,-104.984167 ,-72.677 , -75.526755 ,\n",
        "              -84.27277,-84.39,-157.826182 ,-116.237651 ,-89.650373 ,-86.147685 ,-93.620866 ,-95.69 , -84.86311\n",
        "              ,-91.140229 ,-69.765261 ,-76.501157 ,-71.0275 ,-84.5467 , -93.094 ,-90.207 , -92.189283\n",
        "              , -112.027031 ,-96.675345 ,-119.753877 ,-71.549127 , -74.756138, -105.964575 , -73.781339 ,-78.638 \n",
        "              ,-100.779004 ,-83.000647 , -97.534994,-123.029159 ,-76.875613 , -71.422132, -81.035, -100.336378\n",
        "              ,-86.784 ,-97.75 ,-111.892622 ,-72.57194 ,-77.46 ,-122.893077 ,-81.633294 ,-89.384444 ,-104.802042]\n"
      ],
      "execution_count": null,
      "outputs": []
    },
    {
      "cell_type": "markdown",
      "metadata": {
        "id": "3XAYtMd6TySh"
      },
      "source": [
        "Use the New York Times' COVID-19 data(https://github.com/nytimes/covid-19-data/blob/master/us-states.csv) to create **two functions** that takes the name of a state as input and returns the bar plots of 1) # of cases over time and 2) # of deaths over time for that specific state."
      ]
    },
    {
      "cell_type": "code",
      "metadata": {
        "colab": {
          "base_uri": "https://localhost:8080/",
          "height": 204
        },
        "id": "5SA43MfTTySi",
        "outputId": "1419bfc1-75ff-45b6-c79b-f4174bad5985"
      },
      "source": [
        "df = pd.read_csv(\"https://raw.githubusercontent.com/nytimes/covid-19-data/master/us-states.csv\")\n",
        "df.tail()"
      ],
      "execution_count": null,
      "outputs": [
        {
          "output_type": "execute_result",
          "data": {
            "text/html": [
              "<div>\n",
              "<style scoped>\n",
              "    .dataframe tbody tr th:only-of-type {\n",
              "        vertical-align: middle;\n",
              "    }\n",
              "\n",
              "    .dataframe tbody tr th {\n",
              "        vertical-align: top;\n",
              "    }\n",
              "\n",
              "    .dataframe thead th {\n",
              "        text-align: right;\n",
              "    }\n",
              "</style>\n",
              "<table border=\"1\" class=\"dataframe\">\n",
              "  <thead>\n",
              "    <tr style=\"text-align: right;\">\n",
              "      <th></th>\n",
              "      <th>date</th>\n",
              "      <th>state</th>\n",
              "      <th>fips</th>\n",
              "      <th>cases</th>\n",
              "      <th>deaths</th>\n",
              "    </tr>\n",
              "  </thead>\n",
              "  <tbody>\n",
              "    <tr>\n",
              "      <th>25749</th>\n",
              "      <td>2021-06-13</td>\n",
              "      <td>Virginia</td>\n",
              "      <td>51</td>\n",
              "      <td>677744</td>\n",
              "      <td>11307</td>\n",
              "    </tr>\n",
              "    <tr>\n",
              "      <th>25750</th>\n",
              "      <td>2021-06-13</td>\n",
              "      <td>Washington</td>\n",
              "      <td>53</td>\n",
              "      <td>446091</td>\n",
              "      <td>5858</td>\n",
              "    </tr>\n",
              "    <tr>\n",
              "      <th>25751</th>\n",
              "      <td>2021-06-13</td>\n",
              "      <td>West Virginia</td>\n",
              "      <td>54</td>\n",
              "      <td>162939</td>\n",
              "      <td>2849</td>\n",
              "    </tr>\n",
              "    <tr>\n",
              "      <th>25752</th>\n",
              "      <td>2021-06-13</td>\n",
              "      <td>Wisconsin</td>\n",
              "      <td>55</td>\n",
              "      <td>676288</td>\n",
              "      <td>8013</td>\n",
              "    </tr>\n",
              "    <tr>\n",
              "      <th>25753</th>\n",
              "      <td>2021-06-13</td>\n",
              "      <td>Wyoming</td>\n",
              "      <td>56</td>\n",
              "      <td>61115</td>\n",
              "      <td>725</td>\n",
              "    </tr>\n",
              "  </tbody>\n",
              "</table>\n",
              "</div>"
            ],
            "text/plain": [
              "             date          state  fips   cases  deaths\n",
              "25749  2021-06-13       Virginia    51  677744   11307\n",
              "25750  2021-06-13     Washington    53  446091    5858\n",
              "25751  2021-06-13  West Virginia    54  162939    2849\n",
              "25752  2021-06-13      Wisconsin    55  676288    8013\n",
              "25753  2021-06-13        Wyoming    56   61115     725"
            ]
          },
          "metadata": {
            "tags": []
          },
          "execution_count": 2
        }
      ]
    },
    {
      "cell_type": "code",
      "metadata": {
        "id": "0VTi8hCtTySn"
      },
      "source": [
        "def covid19_cases(state):"
      ],
      "execution_count": null,
      "outputs": []
    },
    {
      "cell_type": "markdown",
      "metadata": {
        "id": "_ZH1uyxRTySo"
      },
      "source": [
        "Call the functions on your assigned state to visualize the data."
      ]
    },
    {
      "cell_type": "code",
      "metadata": {
        "id": "xuOWuRkTTySp"
      },
      "source": [],
      "execution_count": null,
      "outputs": []
    },
    {
      "cell_type": "code",
      "metadata": {
        "id": "T7-Mxw88TySq"
      },
      "source": [],
      "execution_count": null,
      "outputs": []
    },
    {
      "cell_type": "markdown",
      "metadata": {
        "id": "_uATr4pjTySr"
      },
      "source": [
        "Use New York Times' COVID-19 data(https://github.com/nytimes/covid-19-data/blob/master/us-states.csv) to create a choropleth map of the United States based on its numbers of COVID-19 cases and deaths. (Use colors that you think are appropriate)."
      ]
    },
    {
      "cell_type": "code",
      "metadata": {
        "id": "kDnjHvvKTySs"
      },
      "source": [
        "#Dataframe Formatter\n",
        "def dfFormatter(df, selectColumn):\n",
        "    #Separate df_formatted from df. Create list of states and their latitudes and longitudes.\n",
        "    df_formatted = pd.DataFrame(statesList, columns = ['state'])\n",
        "    df_formatted['lat'] = latitudes\n",
        "    df_formatted['long'] = longitudes\n",
        "    \n",
        "    #Create columns for each date, start off by zeroing out everything.\n",
        "    #previousDate = datetime.datetime(2020, 1, 1) #Commented out because datetime is no longer a type.\n",
        "    previousDate = \"2020-01-01\"\n",
        "    for i in range(len(df['date'])):\n",
        "        if df['date'][i] != previousDate:\n",
        "            df_formatted[df['date'][i]] = 0\n",
        "\n",
        "    #Set index to states temporarily.\n",
        "    df_formatted.set_index('state', inplace=True)\n",
        "\n",
        "    \n",
        "    #Select which data you want to use based on the column that you are plotting (cases or deaths)\n",
        "    if selectColumn == 'cases':\n",
        "        #Get number of cases from df and put them in df_formatted.  \n",
        "        for i in range(len(df['state'])):\n",
        "            df_formatted.loc[df['state'][i], df['date'][i]] = df['cases'][i]\n",
        "            #Format for .loc : df_formatted.loc['index/row label', 'column label'] = 'value'\n",
        "    elif selectColumn == 'deaths':\n",
        "        for i in range(len(df['state'])):\n",
        "            df_formatted.loc[df['state'][i], df['date'][i]] = df['deaths'][i]\n",
        "            #Format for .loc : df_formatted.loc['index/row label', 'column label'] = 'value'\n",
        "\n",
        "    \n",
        "    #Reset index when done so that state becomes a column without being the index.\n",
        "    df_formatted.reset_index(inplace=True)\n",
        "    \n",
        "    #Drop last 5 rows because we are focusing on the 50 states.\n",
        "    df_formatted.drop([50,51,52,53,54], inplace=True)\n",
        "        \n",
        "    return df_formatted"
      ],
      "execution_count": null,
      "outputs": []
    },
    {
      "cell_type": "code",
      "metadata": {
        "id": "KR9KPvJzTySt"
      },
      "source": [
        "#Call the function and assign what it returns to the dataframe variables you will be using.\n",
        "\n"
      ],
      "execution_count": null,
      "outputs": []
    },
    {
      "cell_type": "code",
      "metadata": {
        "id": "vAFSB1DwTySv"
      },
      "source": [],
      "execution_count": null,
      "outputs": []
    },
    {
      "cell_type": "markdown",
      "metadata": {
        "id": "WUDhwIBJTySy"
      },
      "source": [
        "## 2 - Analyzing Its Impact on the United States"
      ]
    },
    {
      "cell_type": "markdown",
      "metadata": {
        "id": "Bo3uDh2tTySz"
      },
      "source": [
        "Group 4 -\n",
        "\n",
        "COVID-19 has a greater impact on some people more than others depending on specific factors. \n",
        "\n",
        "Using the following dataset from cdc.gov(https://data.cdc.gov/widgets/9bhg-hcku), create a function that plots bar graphs that analyze the # of deaths based on age demographics and gender demographics in each state."
      ]
    },
    {
      "cell_type": "code",
      "metadata": {
        "id": "kyiO9_saTyS0"
      },
      "source": [],
      "execution_count": null,
      "outputs": []
    },
    {
      "cell_type": "code",
      "metadata": {
        "id": "Rvd_dlEyTyS0"
      },
      "source": [],
      "execution_count": null,
      "outputs": []
    },
    {
      "cell_type": "markdown",
      "metadata": {
        "id": "Q2bo3DAFTyS0"
      },
      "source": [
        "## 3 - Challenge (optional): Find a dataset online that explores other ways that COVID-19 has impacted the United States and use pandas and Plotly to create a visualization based on it.\n",
        "\n",
        "Some ideas:\n",
        "* number of business closures in each state over time\n",
        "* number of people telecommuting in the US\n",
        "* number of hospitalizations in each state\n",
        "\n",
        "etc.."
      ]
    },
    {
      "cell_type": "code",
      "metadata": {
        "id": "cGBlr4f4TyS1"
      },
      "source": [],
      "execution_count": null,
      "outputs": []
    }
  ]
}