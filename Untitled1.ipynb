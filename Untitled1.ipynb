{
  "nbformat": 4,
  "nbformat_minor": 0,
  "metadata": {
    "colab": {
      "provenance": []
    },
    "kernelspec": {
      "name": "python3",
      "display_name": "Python 3"
    },
    "language_info": {
      "name": "python"
    }
  },
  "cells": [
    {
      "cell_type": "code",
      "metadata": {
        "id": "4t_-iPKpQd3u"
      },
      "source": [
        "\n",
        "#split dataframe into bird and dino\n",
        "#find avg body mass in birds\n",
        "#find avg body mass in dino\n",
        "#find avg brain volume in birds\n",
        "#find avg brain volume in dino\n",
        "#ratiobird = bodymass/brainvolume (bird)\n",
        "#ratiodino = bodymass/brainvolume (dino)\n",
        "\n",
        "#function1:\n",
        "\n",
        "\n",
        "def ratio(dataframe, column1, column2):\n",
        "  brainbodyratio = (dataframe[column1])/(dataframe[column2]).mean()\n",
        "\n",
        "  return brainratio\n",
        "\n",
        "def bodyMass(dinosaurType, femurLength):  \n",
        "    dinosaurType == \"Theropoda\": \n",
        "     bm = 10**(3.1854*np.log10(femurLength)-3.184)/1000 else: \n",
        "     return bm\n",
        "\n",
        "def type(femurlength, cerebrummass, bodymass, brainvolume):\n",
        "  if ratio(birddf, 'Volume (cm3)', '(BodyMass (kg)')\n",
        "  if ratio(dinodf, 'Volume (cm3)', '(BodyMass (kg)')\n",
        "  bodymass(Theropoda,297)\n",
        "  ourbrainvolume = 25.14\n",
        "  ourratio_cerebrumbody = (ourcerebrum/ourbodymass)\n",
        "\n",
        "  def subtract(ratio1, ratio2):\n",
        "    value = ratio1-ratio2\n",
        "    return value\n",
        "def compare()"
      ],
      "execution_count": null,
      "outputs": []
    },
    {
      "cell_type": "code",
      "metadata": {
        "id": "Uqp2jS2FdHUO"
      },
      "source": [
        "import pandas as pd\n",
        "import numpy as np"
      ],
      "execution_count": null,
      "outputs": []
    },
    {
      "cell_type": "code",
      "metadata": {
        "id": "ndszh23vOu2m"
      },
      "source": [
        "df = pd.read_csv(\"/content/drive/MyDrive/bird_dino_data.csv\")\n",
        "grouped = df.groupby(df[\"Bird vs Dino\"]) \n",
        "dinodf = grouped.get_group(\"D\") \n",
        "birddf = grouped.get_group(\"B\")"
      ],
      "execution_count": null,
      "outputs": []
    },
    {
      "cell_type": "code",
      "metadata": {
        "id": "kJybgduFPvJN"
      },
      "source": [],
      "execution_count": null,
      "outputs": []
    }
  ]
}